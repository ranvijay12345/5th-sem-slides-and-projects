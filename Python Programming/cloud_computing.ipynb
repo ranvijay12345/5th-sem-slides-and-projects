{
 "cells": [
  {
   "cell_type": "code",
   "execution_count": 185,
   "id": "a5a1d9b2",
   "metadata": {},
   "outputs": [
    {
     "name": "stdout",
     "output_type": "stream",
     "text": [
      "After convert the string into list :  ['R', 'A', 'N', 'V', 'I', 'J', 'A', 'Y']\n"
     ]
    }
   ],
   "source": [
    "# Question No.1\n",
    "\n",
    "string = \"RANVIJAY\"\n",
    "lis = list(string)\n",
    "print(\"After convert the string into list : \",lis)\n"
   ]
  },
  {
   "cell_type": "code",
   "execution_count": 186,
   "id": "3ef5abfd",
   "metadata": {},
   "outputs": [
    {
     "name": "stdout",
     "output_type": "stream",
     "text": [
      "After Convert to string :  RANVIJAY\n"
     ]
    }
   ],
   "source": [
    "# Question No.2\n",
    "\n",
    "def convert_to_string(lis):\n",
    "    \n",
    "    s=\"\"\n",
    "    for x in lis:\n",
    "       s = s + x;\n",
    "    return s;\n",
    "\n",
    "lis = ['R', 'A', 'N','V','I','J','A',\"Y\"]\n",
    "string = convert_to_string(lis)\n",
    "print(\"After Convert to string : \",string)\n"
   ]
  },
  {
   "cell_type": "code",
   "execution_count": 184,
   "id": "02aefb37",
   "metadata": {},
   "outputs": [
    {
     "data": {
      "text/plain": [
       "'RANVIJAY'"
      ]
     },
     "execution_count": 184,
     "metadata": {},
     "output_type": "execute_result"
    }
   ],
   "source": [
    "# Question No.2\n",
    "\n",
    "def convert_to_string(s):\n",
    "    \n",
    "    str1=\"\"\n",
    "    return (str1.join(s))\n",
    "    \n",
    "lis = ['R', 'A', 'N','V','I','J','A',\"Y\"]\n",
    "string = convert_to_string(lis)\n",
    "string"
   ]
  },
  {
   "cell_type": "code",
   "execution_count": 142,
   "id": "0e273a8e",
   "metadata": {},
   "outputs": [
    {
     "name": "stdout",
     "output_type": "stream",
     "text": [
      "Enter a number : 7\n",
      "list of n random numbers :  [6, 4, 3, 2, 1]\n"
     ]
    }
   ],
   "source": [
    "# Question No.3\n",
    "\n",
    "import numpy as np\n",
    "\n",
    "n = int(input(\"Enter a number : \"))\n",
    "number = np.random.randint(1,n+1,5)\n",
    "num = list(number)\n",
    "print(\"list of n random numbers : \",num)\n"
   ]
  },
  {
   "cell_type": "code",
   "execution_count": 144,
   "id": "758273a7",
   "metadata": {},
   "outputs": [
    {
     "name": "stdout",
     "output_type": "stream",
     "text": [
      "list of order in descending order :  [5, 4, 3, 2, 1]\n"
     ]
    }
   ],
   "source": [
    "# Question No.4\n",
    "\n",
    "list1 = [1,5,2,4,3]\n",
    "\n",
    "# To sort the list \n",
    "list1.sort(reverse = True)\n",
    "\n",
    "print(\"list of order in descending order : \",list1)\n"
   ]
  },
  {
   "cell_type": "code",
   "execution_count": 179,
   "id": "7f399fd9",
   "metadata": {},
   "outputs": [
    {
     "name": "stdout",
     "output_type": "stream",
     "text": [
      "The frequency of each numbers :  {1: 3, 2: 3, 3: 1, 4: 2}\n"
     ]
    }
   ],
   "source": [
    "# Question No. 5\n",
    "\n",
    "random_list = [1,1,2,3,2,4,4,1,2]\n",
    "frequency = {}\n",
    "\n",
    "# iterating over the list\n",
    "for item in random_list:\n",
    "   # checking the element in dictionary\n",
    "   if item in frequency:\n",
    "      # incrementing the counter\n",
    "      frequency[item] += 1\n",
    "   else:\n",
    "      # initializing the count\n",
    "      frequency[item] = 1\n",
    "\n",
    "\n",
    "print(\"The frequency of each numbers : \",frequency)\n"
   ]
  },
  {
   "cell_type": "code",
   "execution_count": 165,
   "id": "346fbc9f",
   "metadata": {},
   "outputs": [
    {
     "name": "stdout",
     "output_type": "stream",
     "text": [
      "The unique element :  [1, 2, 3]\n"
     ]
    }
   ],
   "source": [
    "\n",
    "#     Question No. 6 \n",
    "\n",
    "def unique_element(list1):\n",
    "    list2 = []\n",
    "    \n",
    "    for a in list1:\n",
    "        if a not in list2:\n",
    "            list2.append(a)\n",
    "    return list2\n",
    "    \n",
    "    \n",
    "list1 = [1,1,3,2,3,2,3,2,2]\n",
    "list3 = unique_element(list1)\n",
    "list3.sort()\n",
    "print(\"The unique element : \",list3)"
   ]
  },
  {
   "cell_type": "code",
   "execution_count": 134,
   "id": "4b49871a",
   "metadata": {},
   "outputs": [
    {
     "name": "stdout",
     "output_type": "stream",
     "text": [
      "The first repeating element :  1\n"
     ]
    }
   ],
   "source": [
    "# Question no. 7\n",
    "\n",
    "def repeating_element(nums):\n",
    "    num_set = set()\n",
    "    no_repeate = -1\n",
    "\n",
    "    for i in range(len(nums)):\n",
    "\n",
    "        if nums[i] in num_set:\n",
    "            return nums[i]\n",
    "        else:\n",
    "            num_set.add(nums[i])\n",
    "\n",
    "    return no_repeate\n",
    "\n",
    "print(\"The first repeating element : \",find_first_duplicate([1,2,3,4,5,1,2]))"
   ]
  },
  {
   "cell_type": "code",
   "execution_count": 169,
   "id": "1ee010ec",
   "metadata": {},
   "outputs": [
    {
     "name": "stdout",
     "output_type": "stream",
     "text": [
      "Enter a number : 5\n",
      "list containing the square and cube of the number : \n",
      "{0: (0, 0), 1: (1, 1), 2: (4, 8), 3: (9, 27), 4: (16, 64), 5: (25, 125)}\n"
     ]
    }
   ],
   "source": [
    "# Question No. 8\n",
    "\n",
    "\n",
    "dictionary = {} \n",
    "n = int(input(\"Enter a number : \"))\n",
    "for x in range(0,n+1):\n",
    "    dictionary[x]=(x**2,x**3)\n",
    "    \n",
    "print(\"list containing the square and cube of the number : \")\n",
    "print(dictionary)"
   ]
  },
  {
   "cell_type": "code",
   "execution_count": 170,
   "id": "25282d4d",
   "metadata": {},
   "outputs": [
    {
     "name": "stdout",
     "output_type": "stream",
     "text": [
      "The Desire list :  [(1, 'a'), (2, 'b'), (3, 'c'), (4, 'd')]\n"
     ]
    }
   ],
   "source": [
    "# Question no. 9\n",
    "\n",
    "def merge_list(list1, list2):\n",
    "    new_list = [(list1[i], list2[i]) for i in range(0, len(list1))]\n",
    "    return new_list\n",
    "\n",
    "list1 = [1,2,3,4]\n",
    "list2 = ['a','b','c','d']\n",
    "\n",
    "print(\"The Desire list : \",merge_list(list1, list2))"
   ]
  },
  {
   "cell_type": "code",
   "execution_count": 171,
   "id": "4dbd6e89",
   "metadata": {},
   "outputs": [
    {
     "name": "stdout",
     "output_type": "stream",
     "text": [
      "Enter a number : 5\n",
      "The square of 0 to n :  [0, 1, 4, 9, 16, 25]\n"
     ]
    }
   ],
   "source": [
    "# Question No. 10\n",
    "\n",
    "sqr = []\n",
    "\n",
    "n = int(input(\"Enter a number : \"))\n",
    "for var in range(0, n+1):\n",
    "    num = var**2\n",
    "    sqr.append(num)\n",
    "print(\"The square of 0 to n : \",sqr)\n"
   ]
  },
  {
   "cell_type": "code",
   "execution_count": 172,
   "id": "57d5de95",
   "metadata": {},
   "outputs": [
    {
     "name": "stdout",
     "output_type": "stream",
     "text": [
      "Enter a number : 6\n",
      "The square of 0 to n :  [0, 1, 4, 9, 16, 25, 36]\n"
     ]
    }
   ],
   "source": [
    "# Question No. 10\n",
    "\n",
    "sqr = []\n",
    "n = int(input(\"Enter a number : \"))\n",
    "num = [var**2 for var in range(0, n+1)]\n",
    "print(\"The square of 0 to n : \",num)"
   ]
  },
  {
   "cell_type": "code",
   "execution_count": 104,
   "id": "052c5ec3",
   "metadata": {
    "scrolled": false
   },
   "outputs": [
    {
     "name": "stdout",
     "output_type": "stream",
     "text": [
      "Enter a number : 5\n",
      "The square of 0 to n :  {0: 0, 1: 1, 2: 4, 3: 9, 4: 16, 5: 25}\n"
     ]
    }
   ],
   "source": [
    "# Question No.11\n",
    "\n",
    "decs = {}\n",
    "\n",
    "n = int(input(\"Enter a number : \"))\n",
    "for var in range(0, n+1):\n",
    "    decs[var] = var**2\n",
    "    \n",
    "print(\"The square of 0 to n : \",decs)"
   ]
  },
  {
   "cell_type": "code",
   "execution_count": 133,
   "id": "cc1ef3cc",
   "metadata": {},
   "outputs": [
    {
     "name": "stdout",
     "output_type": "stream",
     "text": [
      "The product of number inside the list : 120\n"
     ]
    }
   ],
   "source": [
    "#    Question No. 14\n",
    "\n",
    "import functools\n",
    "\n",
    "list1 = [1,2,3,4,5]\n",
    "print(\"The product of number inside the list : \",end=\"\")\n",
    "print(functools.reduce(lambda a,b:a*b,list1))"
   ]
  },
  {
   "cell_type": "code",
   "execution_count": 193,
   "id": "e23a7ebd",
   "metadata": {
    "scrolled": true
   },
   "outputs": [],
   "source": [
    "from typing import List\n",
    "def uppercaseWords(wordList: List[str]) -> List[str]:  \n",
    "    \"\"\"\n",
    "    >>> uppercaseWords(['aa', 'bb', 'cd', 'e'])\n",
    "    ['AA', 'BB', 'CD', 'E']\n",
    "    >>> uppercaseWords(['this', 'is', 'upper', 'case'])\n",
    "    ['THIS', 'IS', 'UPPER', 'CASE']\n",
    "    \"\"\"\n",
    "    newList = map(getUpper, wordList)\n",
    "    return list(newList)"
   ]
  }
 ],
 "metadata": {
  "kernelspec": {
   "display_name": "Python 3",
   "language": "python",
   "name": "python3"
  },
  "language_info": {
   "codemirror_mode": {
    "name": "ipython",
    "version": 3
   },
   "file_extension": ".py",
   "mimetype": "text/x-python",
   "name": "python",
   "nbconvert_exporter": "python",
   "pygments_lexer": "ipython3",
   "version": "3.8.8"
  }
 },
 "nbformat": 4,
 "nbformat_minor": 5
}
