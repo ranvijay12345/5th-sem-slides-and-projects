{
 "cells": [
  {
   "cell_type": "code",
   "execution_count": 1,
   "id": "3d113bd7",
   "metadata": {},
   "outputs": [
    {
     "name": "stdout",
     "output_type": "stream",
     "text": [
      "Dimension :  2\n",
      "Shap :  (3, 3)\n"
     ]
    }
   ],
   "source": [
    "import numpy as np\n",
    "a = [[1,2,3],[4,5,6],[7,8,9]]\n",
    "arr = np.array(a)\n",
    "arr\n",
    "print(\"Dimension : \", arr.ndim)\n",
    "print(\"Shap : \",arr.shape)"
   ]
  },
  {
   "cell_type": "code",
   "execution_count": null,
   "id": "20472457",
   "metadata": {},
   "outputs": [],
   "source": [
    "import numpy as np\n",
    "arr = np.zeros((3,3,3))\n",
    "arr"
   ]
  },
  {
   "cell_type": "code",
   "execution_count": null,
   "id": "06ec75a6",
   "metadata": {},
   "outputs": [],
   "source": [
    "import numpy as np\n",
    "arr = np.ones((3,3))\n",
    "arr"
   ]
  },
  {
   "cell_type": "code",
   "execution_count": null,
   "id": "730279c2",
   "metadata": {},
   "outputs": [],
   "source": [
    "import numpy as np\n",
    "arr = np.eye(5)\n",
    "arr"
   ]
  },
  {
   "cell_type": "code",
   "execution_count": null,
   "id": "c2b3a095",
   "metadata": {},
   "outputs": [],
   "source": [
    "import numpy as np\n",
    "arr = np.diag([1,2,3,4,5])\n",
    "arr"
   ]
  },
  {
   "cell_type": "code",
   "execution_count": null,
   "id": "53a74106",
   "metadata": {},
   "outputs": [],
   "source": [
    "import numpy as np\n",
    "arr = np.diag([1,2,3,4,5])\n",
    "np.diag(arr)"
   ]
  },
  {
   "cell_type": "code",
   "execution_count": null,
   "id": "112ec8a4",
   "metadata": {},
   "outputs": [],
   "source": [
    "import numpy as np\n",
    "arr = np.random.randint(0,9,3)\n",
    "arr"
   ]
  },
  {
   "cell_type": "code",
   "execution_count": null,
   "id": "68e3d915",
   "metadata": {},
   "outputs": [],
   "source": [
    "import numpy as np\n",
    "arr = np.random.rand(5)\n",
    "arr"
   ]
  },
  {
   "cell_type": "code",
   "execution_count": null,
   "id": "52503e4d",
   "metadata": {},
   "outputs": [],
   "source": [
    "import numpy as np\n",
    "arr = np.random.randn(3,3)\n",
    "arr"
   ]
  },
  {
   "cell_type": "code",
   "execution_count": null,
   "id": "8566f6da",
   "metadata": {},
   "outputs": [],
   "source": [
    "import numpy as np\n",
    "a = []\n",
    "n = int(input(\"Enter size of array : \"))\n",
    "for i in range(n) :\n",
    "    val = int(input(\"Enter numbers : \"))\n",
    "    a.append(val)\n",
    "    \n",
    "arr = np.array(a)\n",
    "\n",
    "print(\"Array numbers are : \",end=\"\")\n",
    "for i in range(arr.size):\n",
    "    print(arr[i],end=\"\"+\" \")\n",
    "    \n",
    "sum = 0\n",
    "for i in range(arr.size) :\n",
    "    sum += arr[i]\n",
    "\n",
    "print(\"\\nThe sum of array : \",sum)\n",
    "#print(sum)"
   ]
  },
  {
   "cell_type": "code",
   "execution_count": 2,
   "id": "d814aebc",
   "metadata": {},
   "outputs": [
    {
     "name": "stdout",
     "output_type": "stream",
     "text": [
      "Enter size of array : 2\n",
      "Enter numbers : 1\n",
      "Enter numbers : 2\n",
      "Array numbers are : 1 2 \n",
      "Slicing array is :  [1 2]\n"
     ]
    }
   ],
   "source": [
    "import numpy as np\n",
    "a = []\n",
    "n = int(input(\"Enter size of array : \"))\n",
    "for i in range(n) :\n",
    "    val = int(input(\"Enter numbers : \"))\n",
    "    a.append(val)\n",
    "    \n",
    "arr = np.array(a)\n",
    "\n",
    "print(\"Array numbers are : \",end=\"\")\n",
    "for i in range(arr.size):\n",
    "    print(arr[i],end=\"\"+\" \")\n",
    "    \n",
    "arr1 = arr[:3]\n",
    "print(\"\\nSlicing array is : \", arr1)"
   ]
  },
  {
   "cell_type": "code",
   "execution_count": 24,
   "id": "7e2c7cc8",
   "metadata": {},
   "outputs": [
    {
     "name": "stdout",
     "output_type": "stream",
     "text": [
      "Dimension :  (3, 4)\n"
     ]
    }
   ],
   "source": [
    "import numpy as np\n",
    "arr = np.random.randint(1,50,12)\n",
    "arr\n",
    "arr.shape\n",
    "\n",
    "arr = arr.reshape(3,4)\n",
    "arr\n",
    "\n",
    "\n",
    "print(\"Dimension : \",arr.shape)"
   ]
  },
  {
   "cell_type": "code",
   "execution_count": 44,
   "id": "d90e0cf7",
   "metadata": {},
   "outputs": [
    {
     "data": {
      "text/plain": [
       "array([76, 28,  7,  3,  4, 68, 77, 49, 23, 50])"
      ]
     },
     "execution_count": 44,
     "metadata": {},
     "output_type": "execute_result"
    }
   ],
   "source": [
    "import numpy as np\n",
    "np.random.seed(12)\n",
    "arr = np.random.randint(1,100,10)\n",
    "arr"
   ]
  },
  {
   "cell_type": "code",
   "execution_count": 55,
   "id": "d16d1283",
   "metadata": {},
   "outputs": [
    {
     "name": "stdout",
     "output_type": "stream",
     "text": [
      "Enter size of row : 3\n",
      "Enter size of collumn : 3\n",
      "Enter numbers : 1\n",
      "Enter numbers : 2\n",
      "Enter numbers : 3\n",
      "Enter numbers : 4\n",
      "Enter numbers : 5\n",
      "Enter numbers : 6\n",
      "Enter numbers : 7\n",
      "Enter numbers : 8\n",
      "Enter numbers : 9\n",
      "Desire array is : \n",
      "1 2 3 \n",
      "4 5 6 \n",
      "7 8 9 \n"
     ]
    }
   ],
   "source": [
    "import numpy as np\n",
    "matrix = []\n",
    "row=int(input(\"Enter size of row : \"))\n",
    "col = int(input(\"Enter size of collumn : \"))\n",
    "for i in range(row):\n",
    "    a = []\n",
    "    for j in range(col):\n",
    "        val = int(input(\"Enter numbers : \"))\n",
    "        a.append(val)\n",
    "    matrix.append(a)\n",
    "\n",
    "arr = np.array(matrix)\n",
    "print(\"Desire array is : \")\n",
    "for i in range(row):\n",
    "    for j in range(col):\n",
    "        print(arr[i,j],end=\" \")\n",
    "    print()"
   ]
  }
 ],
 "metadata": {
  "kernelspec": {
   "display_name": "Python 3",
   "language": "python",
   "name": "python3"
  },
  "language_info": {
   "codemirror_mode": {
    "name": "ipython",
    "version": 3
   },
   "file_extension": ".py",
   "mimetype": "text/x-python",
   "name": "python",
   "nbconvert_exporter": "python",
   "pygments_lexer": "ipython3",
   "version": "3.8.8"
  }
 },
 "nbformat": 4,
 "nbformat_minor": 5
}
