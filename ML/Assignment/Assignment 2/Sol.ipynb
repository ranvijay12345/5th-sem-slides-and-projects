{
 "cells": [
  {
   "cell_type": "code",
   "execution_count": 24,
   "id": "ae1742c1",
   "metadata": {},
   "outputs": [],
   "source": [
    "import numpy as np \n",
    "import pandas as pd\n",
    "from sklearn.model_selection import train_test_split\n",
    "import random"
   ]
  },
  {
   "cell_type": "code",
   "execution_count": 403,
   "id": "ddac26af",
   "metadata": {},
   "outputs": [
    {
     "name": "stdout",
     "output_type": "stream",
     "text": [
      "(25, 2)\n"
     ]
    }
   ],
   "source": [
    "df = pd.read_csv('student_scores.csv')\n",
    "print(df.shape)\n",
    "x = np.array(df.Hours)\n",
    "y = np.array(df.Scores)"
   ]
  },
  {
   "cell_type": "code",
   "execution_count": 385,
   "id": "89b6c589",
   "metadata": {},
   "outputs": [],
   "source": [
    "x_train, x_test, y_train, y_test = train_test_split(x, y, test_size = 0.4, random_state = random.randint(20, 40))\n"
   ]
  },
  {
   "cell_type": "code",
   "execution_count": 393,
   "id": "433df603",
   "metadata": {},
   "outputs": [
    {
     "name": "stdout",
     "output_type": "stream",
     "text": [
      "[1.5 5.9 2.5 2.7 8.9 1.1 5.1 1.9 2.7 2.5 8.3 3.2 4.5 7.4 4.8]\n",
      "[3.8 9.2 3.3 8.5 7.7 7.8 6.1 6.9 5.5 3.5]\n",
      "[20 62 30 30 95 17 47 24 25 21 81 27 41 69 54]\n",
      "[35 88 42 75 85 86 67 76 60 30]\n"
     ]
    }
   ],
   "source": [
    "print(x_train)\n",
    "print(x_test)\n",
    "print(y_train)\n",
    "print(y_test)"
   ]
  }
 ],
 "metadata": {
  "kernelspec": {
   "display_name": "Python 3",
   "language": "python",
   "name": "python3"
  },
  "language_info": {
   "codemirror_mode": {
    "name": "ipython",
    "version": 3
   },
   "file_extension": ".py",
   "mimetype": "text/x-python",
   "name": "python",
   "nbconvert_exporter": "python",
   "pygments_lexer": "ipython3",
   "version": "3.8.8"
  }
 },
 "nbformat": 4,
 "nbformat_minor": 5
}
