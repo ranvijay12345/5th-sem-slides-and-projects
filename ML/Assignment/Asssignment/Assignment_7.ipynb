{
  "nbformat": 4,
  "nbformat_minor": 0,
  "metadata": {
    "colab": {
      "name": "Assignment_7.ipynb",
      "provenance": []
    },
    "kernelspec": {
      "name": "python3",
      "display_name": "Python 3"
    },
    "language_info": {
      "name": "python"
    }
  },
  "cells": [
    {
      "cell_type": "markdown",
      "metadata": {
        "id": "qySPG6xg8l_Z"
      },
      "source": [
        "####Name - Ranvijay Patel Amarnath <br>\n",
        "####Roll No. - 1901156 <br>\n",
        "####E-mail - ranvijay.amarnath@iiitg.ac.in"
      ]
    },
    {
      "cell_type": "markdown",
      "metadata": {
        "id": "SyQf2t9Xl5Ph"
      },
      "source": [
        "###1. Implement the perceptron algorithm for OR logic gate with 2-bit binary input"
      ]
    },
    {
      "cell_type": "code",
      "metadata": {
        "id": "vWDPVhnnadfb"
      },
      "source": [
        "import numpy as np\n",
        "weight = np.array([1,1])\n",
        "inputs = np.array([[0,0], [0,1], [1,0], [1,1]])\n",
        "#bias = -0.5"
      ],
      "execution_count": null,
      "outputs": []
    },
    {
      "cell_type": "markdown",
      "metadata": {
        "id": "qCitUXAxmgXs"
      },
      "source": [
        "###OR perceptron function"
      ]
    },
    {
      "cell_type": "code",
      "metadata": {
        "id": "6HJfAn4CkasB"
      },
      "source": [
        "def Perceptron(x, weight, bias):\n",
        "  fx = np.dot(x, weight) + bias\n",
        "  if fx >= 0:\n",
        "    return i, 1\n",
        "  else:\n",
        "    return i, 0"
      ],
      "execution_count": null,
      "outputs": []
    },
    {
      "cell_type": "markdown",
      "metadata": {
        "id": "8xT0Rde9pvNc"
      },
      "source": [
        "###OR Perceptron\n"
      ]
    },
    {
      "cell_type": "code",
      "metadata": {
        "colab": {
          "base_uri": "https://localhost:8080/"
        },
        "id": "pPslVwG-lSSi",
        "outputId": "05f08639-ba7a-4d53-8e33-e8caeb1a6ffd"
      },
      "source": [
        "print(\"OR Perceptron : \\n\")\n",
        "for i in inputs:\n",
        "  print(Perceptron(i, weight, -0.5))"
      ],
      "execution_count": null,
      "outputs": [
        {
          "output_type": "stream",
          "name": "stdout",
          "text": [
            "OR Perceptron : \n",
            "\n",
            "(array([0, 0]), 0)\n",
            "(array([0, 1]), 1)\n",
            "(array([1, 0]), 1)\n",
            "(array([1, 1]), 1)\n"
          ]
        }
      ]
    },
    {
      "cell_type": "markdown",
      "metadata": {
        "id": "UjcPJcL2p0we"
      },
      "source": [
        "###AND Perceptron"
      ]
    },
    {
      "cell_type": "code",
      "metadata": {
        "colab": {
          "base_uri": "https://localhost:8080/"
        },
        "id": "u-GV6DFBp3hF",
        "outputId": "5e9f304b-36e3-47d6-afa7-ce0b02fa8ce3"
      },
      "source": [
        "\n",
        "for i in inputs:\n",
        "  print(Perceptron(i, weight, -2))"
      ],
      "execution_count": null,
      "outputs": [
        {
          "output_type": "stream",
          "name": "stdout",
          "text": [
            "(array([0, 0]), 0)\n",
            "(array([0, 1]), 0)\n",
            "(array([1, 0]), 0)\n",
            "(array([1, 1]), 1)\n"
          ]
        }
      ]
    },
    {
      "cell_type": "markdown",
      "metadata": {
        "id": "fQurDFgrzGjK"
      },
      "source": [
        "##Algorithm implementation "
      ]
    },
    {
      "cell_type": "code",
      "metadata": {
        "id": "WijFiFkrxoa3"
      },
      "source": [
        "import numpy as np\n",
        "\n",
        "# weight = [w0, w1, w2] and bias = -0.5\n",
        "w = np.array([0.1, 0.1, 0.1])\n",
        "\n",
        "# w = [w0, w1, w2]\n",
        "#x0 = 1\n",
        "# xi = [[0,0],[0,1],[1,0][1,1]]\n",
        "def Perceptron_Algo(w, x0, x ):\n",
        "  hx = x0*w[0] + x[1]*w[1] + x[2]*w[2]\n",
        "  if hx >= 0:\n",
        "    y = 1;\n",
        "  else:\n",
        "    y = 0;\n",
        "  xi = np.array([x0, x[1], x[2]])\n",
        "  if hx >= 0:\n",
        "    for x in xi:\n",
        "      w = w - x\n",
        "  else:\n",
        "    w = w + x  \n",
        "  \n"
      ],
      "execution_count": null,
      "outputs": []
    }
  ]
}