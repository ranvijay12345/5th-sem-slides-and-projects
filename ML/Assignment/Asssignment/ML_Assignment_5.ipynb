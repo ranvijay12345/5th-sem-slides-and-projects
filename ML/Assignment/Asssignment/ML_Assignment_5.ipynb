{
  "nbformat": 4,
  "nbformat_minor": 0,
  "metadata": {
    "colab": {
      "name": "ML Assignment-5.ipynb",
      "provenance": [],
      "collapsed_sections": []
    },
    "kernelspec": {
      "name": "python3",
      "display_name": "Python 3"
    },
    "language_info": {
      "name": "python"
    }
  },
  "cells": [
    {
      "cell_type": "code",
      "metadata": {
        "id": "TRoUhwzVQZqo"
      },
      "source": [
        "from sklearn import datasets\n",
        "boston = datasets.load_boston(return_X_y=False)\n",
        "#a) train(30%), validation (10%), and test(60%)\n",
        "#i) Normalize the dataset and train the linear regression\n",
        "#model using inbuild code\n",
        "from sklearn.linear_model import LinearRegression"
      ],
      "execution_count": null,
      "outputs": []
    },
    {
      "cell_type": "code",
      "metadata": {
        "id": "_P1pfOFYSIg0"
      },
      "source": [
        "print(boston)"
      ],
      "execution_count": null,
      "outputs": []
    },
    {
      "cell_type": "code",
      "metadata": {
        "id": "560LKwc8SLQl"
      },
      "source": [
        "print(boston['feature_names'])"
      ],
      "execution_count": null,
      "outputs": []
    },
    {
      "cell_type": "code",
      "metadata": {
        "id": "KzUCzGFpSNhY"
      },
      "source": [
        "print(boston['target'])"
      ],
      "execution_count": null,
      "outputs": []
    },
    {
      "cell_type": "code",
      "metadata": {
        "id": "NGHqUovqRFMN"
      },
      "source": [
        "print(boston['data'].shape)"
      ],
      "execution_count": null,
      "outputs": []
    },
    {
      "cell_type": "code",
      "metadata": {
        "id": "asdEIGkAS6bg"
      },
      "source": [
        "from sklearn.model_selection import train_test_split\n",
        "import random\n",
        "# train(30%), validation (10%), and test(60%)\n",
        "X_train, X_test, y_train, y_test = train_test_split(boston['data'],boston['target'] , test_size=0.7, random_state=random.randint(30,100))\n",
        "X_test, X_validation, y_test, y_validation = train_test_split(X_test, y_test, test_size=0.14, random_state=random.randint(30,100))\n",
        "print(\"Size of the train dataset:\",X_train.shape)\n",
        "print(\"Size of the test dataset:\",X_test.shape)\n",
        "print(\"Size of the validation dataset:\",X_validation.shape)"
      ],
      "execution_count": null,
      "outputs": []
    },
    {
      "cell_type": "code",
      "metadata": {
        "id": "cpOFipTRUp6d"
      },
      "source": [
        "# Plot the validation and train accuracy after each epoch\n",
        "# b) Finally, report the train and test accuracy\n",
        "from sklearn.linear_model import SGDRegressor\n",
        "import random\n",
        "def training_phase(X,y,epoch,lr,roh):\n",
        "  reg = SGDRegressor(fit_intercept=True, tol=roh, alpha = lr)\n",
        "  sample_weight = np.ones(X.shape[1])\n",
        "  arr = []\n",
        "  for i in range(0,epoch):\n",
        "    if(i==0):\n",
        "      for i in range(0,X.shape[1]):\n",
        "        sample_weight[i] = random.uniform(0, 0.3)\n",
        "    else:\n",
        "      sample_weight = reg.coef_\n",
        "    reg.fit(X, y,sample_weight)\n",
        "    accuracy = reg.score(X, y)\n",
        "  return accuracy, sample_weight"
      ],
      "execution_count": null,
      "outputs": []
    },
    {
      "cell_type": "code",
      "metadata": {
        "id": "qsW5mKumllfH"
      },
      "source": [
        "import matplotlib.pyplot as plt\n",
        "def plot(x,y):\n",
        "  plt.title(\"accuracy(score) vs Epoch\")\n",
        "  plt.xlabel(\"Epoch\")\n",
        "  plt.ylabel(\"accuracy(score)\")\n",
        "  plt.plot(x,y,'-o')\n",
        "  plt.show()"
      ],
      "execution_count": null,
      "outputs": []
    },
    {
      "cell_type": "code",
      "metadata": {
        "id": "WyST00Rbd9iC"
      },
      "source": [
        "import numpy as np\n",
        "accuracy, weights = training_phase(X_train,y_train,5,0.00001,0.001)\n",
        "print(accuracy, weights)\n",
        "accuracy = np.array(accuracy)"
      ],
      "execution_count": null,
      "outputs": []
    },
    {
      "cell_type": "code",
      "metadata": {
        "id": "OQlszIqHcYci"
      },
      "source": [
        "# valodation set\n",
        "# find min alpha\n",
        "def getMin(arr, n):\n",
        "    res = arr[0]\n",
        "    for i in range(1,n):\n",
        "        res = min(res, arr[i])\n",
        "    return res \n",
        "alpha  = np.array([0.0001,0.001,0.01,0.015, 0.01, 0.1, 0.2])\n",
        "roh = 0.0001\n",
        "epoch = np.array([10,20,30,40,50,60,70])\n",
        "accuracy = []\n",
        "all_weights = []\n",
        "my_temp = []\n",
        "for i in range(0,alpha.shape[0]):\n",
        "  inner_acc = []\n",
        "  inner_weight = []\n",
        "  for j in range(0,epoch.shape[0]):\n",
        "    acc, weights = training_phase(X_train,y_train,epoch[i],alpha[i],roh)\n",
        "    inner_acc.append(acc)\n",
        "    inner_weight.append(weights)\n",
        "  my_temp.append(inner_acc)\n",
        "  inner_acc = np.array(inner_acc)\n",
        "  ele = getMin(inner_acc, inner_acc.shape[0])\n",
        "  print(ele)\n",
        "  ind = 0\n",
        "  for i in range(0,epoch.shape[0]):\n",
        "    if(ele==inner_acc[i]):\n",
        "      ind = i\n",
        "    break\n",
        "  accuracy.append(inner_acc[ind])\n",
        "  all_weights.append(inner_weight[ind])"
      ],
      "execution_count": null,
      "outputs": []
    },
    {
      "cell_type": "code",
      "metadata": {
        "id": "UtM0jJf6sS5B"
      },
      "source": [
        "print(all_weights)"
      ],
      "execution_count": null,
      "outputs": []
    },
    {
      "cell_type": "code",
      "metadata": {
        "id": "-RdC6dXaS8cZ"
      },
      "source": [
        "my_accuracy = list(accuracy)\n",
        "print(my_accuracy)\n",
        "print(getMin(list(my_accuracy),len(my_accuracy)))\n",
        "index = 0\n",
        "accuracy = np.array(accuracy)\n",
        "for i in range(0,epoch.shape[0]):\n",
        "  value = getMin(list(accuracy),epoch.shape[0])\n",
        "  if(value==accuracy[i]):\n",
        "    index = i\n",
        "    break\n",
        "print(\"best hyper parameters: alpha = \", alpha[index])\n",
        "print(\"best hyper parameters: roh = \", roh)\n",
        "print(\"best hyper parameters: no of epoch = \", epoch[index])\n",
        "print(\"optimial weights for test case: \",all_weights[index])"
      ],
      "execution_count": null,
      "outputs": []
    },
    {
      "cell_type": "code",
      "metadata": {
        "colab": {
          "base_uri": "https://localhost:8080/",
          "height": 294
        },
        "id": "zIdA7a1QsuKx",
        "outputId": "5f5bff71-93eb-4b7a-e9f6-60c2a1af9671"
      },
      "source": [
        "epochs = np.ones(accuracy.shape[0])\n",
        "for i in range(0,accuracy.shape[0]):\n",
        "  epochs[i] = i+1\n",
        "plot(epochs,my_temp[ind])"
      ],
      "execution_count": null,
      "outputs": [
        {
          "output_type": "display_data",
          "data": {
            "image/png": "[encoded data removed]",
            "text/plain": [
              "<Figure size 432x288 with 1 Axes>"
            ]
          },
          "metadata": {
            "needs_background": "light"
          }
        }
      ]
    },
    {
      "cell_type": "code",
      "metadata": {
        "id": "BN5scAGXo5Lq"
      },
      "source": [
        ""
      ],
      "execution_count": null,
      "outputs": []
    },
    {
      "cell_type": "code",
      "metadata": {
        "id": "Og2c16m1UgtS"
      },
      "source": [
        ""
      ],
      "execution_count": null,
      "outputs": []
    },
    {
      "cell_type": "code",
      "metadata": {
        "colab": {
          "base_uri": "https://localhost:8080/"
        },
        "id": "mL236Ehrhk02",
        "outputId": "e601b02c-0acb-402c-c050-4af7b853d960"
      },
      "source": [
        ""
      ],
      "execution_count": null,
      "outputs": [
        {
          "output_type": "stream",
          "name": "stdout",
          "text": [
            "(13,)\n"
          ]
        }
      ]
    },
    {
      "cell_type": "code",
      "metadata": {
        "id": "KVsM0Lluco49"
      },
      "source": [
        ""
      ],
      "execution_count": null,
      "outputs": []
    },
    {
      "cell_type": "code",
      "metadata": {
        "id": "AHbVMtAYcn3X"
      },
      "source": [
        ""
      ],
      "execution_count": null,
      "outputs": []
    },
    {
      "cell_type": "markdown",
      "metadata": {
        "id": "dJoNKtq3SrK7"
      },
      "source": [
        "# Part- B\n",
        "Train the inbuild linear regression model without\n",
        "normalizing the data<br/>\n",
        "a) Plot the validation and train accuracy after each epoch<br/>\n",
        "b) Finally, report the train and test accuracy<br/>"
      ]
    },
    {
      "cell_type": "code",
      "metadata": {
        "id": "b3xSIok9Qe5k"
      },
      "source": [
        "from sklearn.preprocessing import MinMaxScaler\n",
        "scaler = MinMaxScaler()\n",
        "scaler.fit(boston['data'])\n",
        "feature_vector = scaler.transform(boston['data'])"
      ],
      "execution_count": null,
      "outputs": []
    },
    {
      "cell_type": "code",
      "metadata": {
        "colab": {
          "base_uri": "https://localhost:8080/"
        },
        "id": "-luYcTcmQ1fd",
        "outputId": "b75de2ad-e460-4557-df74-3a5cc76ddba2"
      },
      "source": [
        "from sklearn.model_selection import train_test_split\n",
        "import random\n",
        "# train(30%), validation (10%), and test(60%)\n",
        "X_train, X_test, y_train, y_test = train_test_split(feature_vector, boston['target'] , test_size=0.7, random_state=random.randint(30,100))\n",
        "X_test, X_validation, y_test, y_validation = train_test_split(X_test, y_test, test_size=0.14, random_state=random.randint(30,100))\n",
        "print(\"Size of the train dataset:\",X_train.shape)\n",
        "print(\"Size of the test dataset:\",X_test.shape)\n",
        "print(\"Size of the validation dataset:\",X_validation.shape)"
      ],
      "execution_count": null,
      "outputs": [
        {
          "output_type": "stream",
          "name": "stdout",
          "text": [
            "Size of the train dataset: (151, 13)\n",
            "Size of the test dataset: (305, 13)\n",
            "Size of the validation dataset: (50, 13)\n"
          ]
        }
      ]
    },
    {
      "cell_type": "code",
      "metadata": {
        "id": "H5s1OwOCROWB"
      },
      "source": [
        "# Plot the validation and train accuracy after each epoch\n",
        "# b) Finally, report the train and test accuracy\n",
        "from sklearn.linear_model import SGDRegressor\n",
        "import random\n",
        "def training_phase(X,y,epoch,lr,roh):\n",
        "  reg = SGDRegressor(fit_intercept=True, tol=roh, alpha = lr)\n",
        "  sample_weight = np.ones(X.shape[1])\n",
        "  arr = []\n",
        "  for i in range(0,epoch):\n",
        "    if(i==0):\n",
        "      for i in range(0,X.shape[1]):\n",
        "        sample_weight[i] = random.uniform(0, 0.3)\n",
        "    else:\n",
        "      sample_weight = reg.coef_\n",
        "    reg.fit(X, y,sample_weight)\n",
        "    accuracy = reg.score(X, y)\n",
        "    arr.append(accuracy)\n",
        "  return arr, sample_weight"
      ],
      "execution_count": null,
      "outputs": []
    },
    {
      "cell_type": "code",
      "metadata": {
        "id": "WKe9lxhMRtRD"
      },
      "source": [
        "import matplotlib.pyplot as plt\n",
        "def plot(x,y):\n",
        "  plt.title(\"Mean Square Error vs Epoch\")\n",
        "  plt.xlabel(\"Epoch\")\n",
        "  plt.ylabel(\"Mean Square Error\")\n",
        "  plt.plot(x,y,'-o')\n",
        "  plt.show()"
      ],
      "execution_count": null,
      "outputs": []
    },
    {
      "cell_type": "code",
      "metadata": {
        "colab": {
          "base_uri": "https://localhost:8080/"
        },
        "id": "0eZoAe4YmhIx",
        "outputId": "3dbf9f80-7f8d-4355-c438-509839ae7d9b"
      },
      "source": [
        "accuracy, weights = training_phase(X_train,y_train,5,0.00001,0.001)\n",
        "print(accuracy, weights)\n",
        "accuracy = np.array(accuracy)"
      ],
      "execution_count": null,
      "outputs": [
        {
          "output_type": "stream",
          "name": "stdout",
          "text": [
            "[-7.899157115691439e+25, -1.3269875151457184e+27, -3.060241103321925e+26, -3.3533183906197243e+26, -7.156108648214229e+26] [ 2.21972695e+09  1.46309082e+11 -1.59672554e+11  4.70807744e+10\n",
            " -3.75947707e+10 -3.12233972e+11 -2.31092634e+10 -8.05922694e+11\n",
            "  2.72981122e+11 -4.13989864e+11 -1.46864411e+11 -2.05507693e+11\n",
            "  5.83836188e+11]\n"
          ]
        }
      ]
    },
    {
      "cell_type": "code",
      "metadata": {
        "id": "T-bNceDpmkdE"
      },
      "source": [
        ""
      ],
      "execution_count": null,
      "outputs": []
    }
  ]
}