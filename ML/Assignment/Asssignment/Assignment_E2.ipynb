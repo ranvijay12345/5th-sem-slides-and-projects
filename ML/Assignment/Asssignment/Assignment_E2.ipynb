{
  "nbformat": 4,
  "nbformat_minor": 0,
  "metadata": {
    "colab": {
      "name": "Assignment_E2.ipynb",
      "provenance": [],
      "collapsed_sections": []
    },
    "kernelspec": {
      "name": "python3",
      "display_name": "Python 3"
    },
    "language_info": {
      "name": "python"
    }
  },
  "cells": [
    {
      "cell_type": "code",
      "metadata": {
        "id": "7Net0QGxmfSW"
      },
      "source": [
        "from sklearn import datasets\n",
        "import numpy as np\n",
        "import pandas as pd\n",
        "wine = datasets.load_wine()"
      ],
      "execution_count": null,
      "outputs": []
    },
    {
      "cell_type": "code",
      "metadata": {
        "id": "5tU0FNRFmwAG",
        "colab": {
          "base_uri": "https://localhost:8080/"
        },
        "outputId": "42671e58-1d24-4765-e136-cc18c10bf48c"
      },
      "source": [
        "wine.feature_names"
      ],
      "execution_count": null,
      "outputs": [
        {
          "output_type": "execute_result",
          "data": {
            "text/plain": [
              "['alcohol',\n",
              " 'malic_acid',\n",
              " 'ash',\n",
              " 'alcalinity_of_ash',\n",
              " 'magnesium',\n",
              " 'total_phenols',\n",
              " 'flavanoids',\n",
              " 'nonflavanoid_phenols',\n",
              " 'proanthocyanins',\n",
              " 'color_intensity',\n",
              " 'hue',\n",
              " 'od280/od315_of_diluted_wines',\n",
              " 'proline']"
            ]
          },
          "metadata": {},
          "execution_count": 15
        }
      ]
    },
    {
      "cell_type": "code",
      "metadata": {
        "id": "NQ2kuHB6myJG",
        "colab": {
          "base_uri": "https://localhost:8080/"
        },
        "outputId": "b60cec6c-30ad-43e6-a7a0-25cae52f5f1a"
      },
      "source": [
        "wine.data.shape\n"
      ],
      "execution_count": null,
      "outputs": [
        {
          "output_type": "execute_result",
          "data": {
            "text/plain": [
              "(178, 13)"
            ]
          },
          "metadata": {},
          "execution_count": 17
        }
      ]
    },
    {
      "cell_type": "code",
      "metadata": {
        "id": "G1TxWmPim0eT",
        "colab": {
          "base_uri": "https://localhost:8080/"
        },
        "outputId": "40f04c76-dcd2-4563-d7b2-c725973e6972"
      },
      "source": [
        "wine.target.shape"
      ],
      "execution_count": null,
      "outputs": [
        {
          "output_type": "execute_result",
          "data": {
            "text/plain": [
              "(178,)"
            ]
          },
          "metadata": {},
          "execution_count": 18
        }
      ]
    },
    {
      "cell_type": "code",
      "metadata": {
        "colab": {
          "base_uri": "https://localhost:8080/",
          "height": 443
        },
        "id": "6D6jXhUNngNv",
        "outputId": "ddd1ce4b-433b-47e2-908d-a86d7041fed5"
      },
      "source": [
        "df = pd.DataFrame(wine.data,columns=[wine.feature_names])\n",
        "df['target'] = wine.target\n",
        "df"
      ],
      "execution_count": null,
      "outputs": [
        {
          "output_type": "execute_result",
          "data": {
            "text/html": [
              "<div>\n",
              "<style scoped>\n",
              "    .dataframe tbody tr th:only-of-type {\n",
              "        vertical-align: middle;\n",
              "    }\n",
              "\n",
              "    .dataframe tbody tr th {\n",
              "        vertical-align: top;\n",
              "    }\n",
              "\n",
              "    .dataframe thead tr th {\n",
              "        text-align: left;\n",
              "    }\n",
              "</style>\n",
              "<table border=\"1\" class=\"dataframe\">\n",
              "  <thead>\n",
              "    <tr>\n",
              "      <th></th>\n",
              "      <th>alcohol</th>\n",
              "      <th>malic_acid</th>\n",
              "      <th>ash</th>\n",
              "      <th>alcalinity_of_ash</th>\n",
              "      <th>magnesium</th>\n",
              "      <th>total_phenols</th>\n",
              "      <th>flavanoids</th>\n",
              "      <th>nonflavanoid_phenols</th>\n",
              "      <th>proanthocyanins</th>\n",
              "      <th>color_intensity</th>\n",
              "      <th>hue</th>\n",
              "      <th>od280/od315_of_diluted_wines</th>\n",
              "      <th>proline</th>\n",
              "      <th>target</th>\n",
              "    </tr>\n",
              "  </thead>\n",
              "  <tbody>\n",
              "    <tr>\n",
              "      <th>0</th>\n",
              "      <td>14.23</td>\n",
              "      <td>1.71</td>\n",
              "      <td>2.43</td>\n",
              "      <td>15.6</td>\n",
              "      <td>127.0</td>\n",
              "      <td>2.80</td>\n",
              "      <td>3.06</td>\n",
              "      <td>0.28</td>\n",
              "      <td>2.29</td>\n",
              "      <td>5.64</td>\n",
              "      <td>1.04</td>\n",
              "      <td>3.92</td>\n",
              "      <td>1065.0</td>\n",
              "      <td>0</td>\n",
              "    </tr>\n",
              "    <tr>\n",
              "      <th>1</th>\n",
              "      <td>13.20</td>\n",
              "      <td>1.78</td>\n",
              "      <td>2.14</td>\n",
              "      <td>11.2</td>\n",
              "      <td>100.0</td>\n",
              "      <td>2.65</td>\n",
              "      <td>2.76</td>\n",
              "      <td>0.26</td>\n",
              "      <td>1.28</td>\n",
              "      <td>4.38</td>\n",
              "      <td>1.05</td>\n",
              "      <td>3.40</td>\n",
              "      <td>1050.0</td>\n",
              "      <td>0</td>\n",
              "    </tr>\n",
              "    <tr>\n",
              "      <th>2</th>\n",
              "      <td>13.16</td>\n",
              "      <td>2.36</td>\n",
              "      <td>2.67</td>\n",
              "      <td>18.6</td>\n",
              "      <td>101.0</td>\n",
              "      <td>2.80</td>\n",
              "      <td>3.24</td>\n",
              "      <td>0.30</td>\n",
              "      <td>2.81</td>\n",
              "      <td>5.68</td>\n",
              "      <td>1.03</td>\n",
              "      <td>3.17</td>\n",
              "      <td>1185.0</td>\n",
              "      <td>0</td>\n",
              "    </tr>\n",
              "    <tr>\n",
              "      <th>3</th>\n",
              "      <td>14.37</td>\n",
              "      <td>1.95</td>\n",
              "      <td>2.50</td>\n",
              "      <td>16.8</td>\n",
              "      <td>113.0</td>\n",
              "      <td>3.85</td>\n",
              "      <td>3.49</td>\n",
              "      <td>0.24</td>\n",
              "      <td>2.18</td>\n",
              "      <td>7.80</td>\n",
              "      <td>0.86</td>\n",
              "      <td>3.45</td>\n",
              "      <td>1480.0</td>\n",
              "      <td>0</td>\n",
              "    </tr>\n",
              "    <tr>\n",
              "      <th>4</th>\n",
              "      <td>13.24</td>\n",
              "      <td>2.59</td>\n",
              "      <td>2.87</td>\n",
              "      <td>21.0</td>\n",
              "      <td>118.0</td>\n",
              "      <td>2.80</td>\n",
              "      <td>2.69</td>\n",
              "      <td>0.39</td>\n",
              "      <td>1.82</td>\n",
              "      <td>4.32</td>\n",
              "      <td>1.04</td>\n",
              "      <td>2.93</td>\n",
              "      <td>735.0</td>\n",
              "      <td>0</td>\n",
              "    </tr>\n",
              "    <tr>\n",
              "      <th>...</th>\n",
              "      <td>...</td>\n",
              "      <td>...</td>\n",
              "      <td>...</td>\n",
              "      <td>...</td>\n",
              "      <td>...</td>\n",
              "      <td>...</td>\n",
              "      <td>...</td>\n",
              "      <td>...</td>\n",
              "      <td>...</td>\n",
              "      <td>...</td>\n",
              "      <td>...</td>\n",
              "      <td>...</td>\n",
              "      <td>...</td>\n",
              "      <td>...</td>\n",
              "    </tr>\n",
              "    <tr>\n",
              "      <th>173</th>\n",
              "      <td>13.71</td>\n",
              "      <td>5.65</td>\n",
              "      <td>2.45</td>\n",
              "      <td>20.5</td>\n",
              "      <td>95.0</td>\n",
              "      <td>1.68</td>\n",
              "      <td>0.61</td>\n",
              "      <td>0.52</td>\n",
              "      <td>1.06</td>\n",
              "      <td>7.70</td>\n",
              "      <td>0.64</td>\n",
              "      <td>1.74</td>\n",
              "      <td>740.0</td>\n",
              "      <td>2</td>\n",
              "    </tr>\n",
              "    <tr>\n",
              "      <th>174</th>\n",
              "      <td>13.40</td>\n",
              "      <td>3.91</td>\n",
              "      <td>2.48</td>\n",
              "      <td>23.0</td>\n",
              "      <td>102.0</td>\n",
              "      <td>1.80</td>\n",
              "      <td>0.75</td>\n",
              "      <td>0.43</td>\n",
              "      <td>1.41</td>\n",
              "      <td>7.30</td>\n",
              "      <td>0.70</td>\n",
              "      <td>1.56</td>\n",
              "      <td>750.0</td>\n",
              "      <td>2</td>\n",
              "    </tr>\n",
              "    <tr>\n",
              "      <th>175</th>\n",
              "      <td>13.27</td>\n",
              "      <td>4.28</td>\n",
              "      <td>2.26</td>\n",
              "      <td>20.0</td>\n",
              "      <td>120.0</td>\n",
              "      <td>1.59</td>\n",
              "      <td>0.69</td>\n",
              "      <td>0.43</td>\n",
              "      <td>1.35</td>\n",
              "      <td>10.20</td>\n",
              "      <td>0.59</td>\n",
              "      <td>1.56</td>\n",
              "      <td>835.0</td>\n",
              "      <td>2</td>\n",
              "    </tr>\n",
              "    <tr>\n",
              "      <th>176</th>\n",
              "      <td>13.17</td>\n",
              "      <td>2.59</td>\n",
              "      <td>2.37</td>\n",
              "      <td>20.0</td>\n",
              "      <td>120.0</td>\n",
              "      <td>1.65</td>\n",
              "      <td>0.68</td>\n",
              "      <td>0.53</td>\n",
              "      <td>1.46</td>\n",
              "      <td>9.30</td>\n",
              "      <td>0.60</td>\n",
              "      <td>1.62</td>\n",
              "      <td>840.0</td>\n",
              "      <td>2</td>\n",
              "    </tr>\n",
              "    <tr>\n",
              "      <th>177</th>\n",
              "      <td>14.13</td>\n",
              "      <td>4.10</td>\n",
              "      <td>2.74</td>\n",
              "      <td>24.5</td>\n",
              "      <td>96.0</td>\n",
              "      <td>2.05</td>\n",
              "      <td>0.76</td>\n",
              "      <td>0.56</td>\n",
              "      <td>1.35</td>\n",
              "      <td>9.20</td>\n",
              "      <td>0.61</td>\n",
              "      <td>1.60</td>\n",
              "      <td>560.0</td>\n",
              "      <td>2</td>\n",
              "    </tr>\n",
              "  </tbody>\n",
              "</table>\n",
              "<p>178 rows × 14 columns</p>\n",
              "</div>"
            ],
            "text/plain": [
              "    alcohol malic_acid   ash  ... od280/od315_of_diluted_wines proline target\n",
              "0     14.23       1.71  2.43  ...                         3.92  1065.0      0\n",
              "1     13.20       1.78  2.14  ...                         3.40  1050.0      0\n",
              "2     13.16       2.36  2.67  ...                         3.17  1185.0      0\n",
              "3     14.37       1.95  2.50  ...                         3.45  1480.0      0\n",
              "4     13.24       2.59  2.87  ...                         2.93   735.0      0\n",
              "..      ...        ...   ...  ...                          ...     ...    ...\n",
              "173   13.71       5.65  2.45  ...                         1.74   740.0      2\n",
              "174   13.40       3.91  2.48  ...                         1.56   750.0      2\n",
              "175   13.27       4.28  2.26  ...                         1.56   835.0      2\n",
              "176   13.17       2.59  2.37  ...                         1.62   840.0      2\n",
              "177   14.13       4.10  2.74  ...                         1.60   560.0      2\n",
              "\n",
              "[178 rows x 14 columns]"
            ]
          },
          "metadata": {},
          "execution_count": 19
        }
      ]
    },
    {
      "cell_type": "code",
      "metadata": {
        "id": "wvPUJuvInlOI"
      },
      "source": [
        "from sklearn.preprocessing import MinMaxScaler\n",
        "scaling = MinMaxScaler()"
      ],
      "execution_count": null,
      "outputs": []
    },
    {
      "cell_type": "code",
      "metadata": {
        "colab": {
          "base_uri": "https://localhost:8080/",
          "height": 423
        },
        "id": "_5YXSzDTnnkN",
        "outputId": "12af7d85-5850-4bad-e227-ab06726d9f1b"
      },
      "source": [
        "dat = scaling.fit_transform(df[df.columns])\n",
        "df = pd.DataFrame(dat)\n",
        "df"
      ],
      "execution_count": null,
      "outputs": [
        {
          "output_type": "execute_result",
          "data": {
            "text/html": [
              "<div>\n",
              "<style scoped>\n",
              "    .dataframe tbody tr th:only-of-type {\n",
              "        vertical-align: middle;\n",
              "    }\n",
              "\n",
              "    .dataframe tbody tr th {\n",
              "        vertical-align: top;\n",
              "    }\n",
              "\n",
              "    .dataframe thead th {\n",
              "        text-align: right;\n",
              "    }\n",
              "</style>\n",
              "<table border=\"1\" class=\"dataframe\">\n",
              "  <thead>\n",
              "    <tr style=\"text-align: right;\">\n",
              "      <th></th>\n",
              "      <th>0</th>\n",
              "      <th>1</th>\n",
              "      <th>2</th>\n",
              "      <th>3</th>\n",
              "      <th>4</th>\n",
              "      <th>5</th>\n",
              "      <th>6</th>\n",
              "      <th>7</th>\n",
              "      <th>8</th>\n",
              "      <th>9</th>\n",
              "      <th>10</th>\n",
              "      <th>11</th>\n",
              "      <th>12</th>\n",
              "      <th>13</th>\n",
              "    </tr>\n",
              "  </thead>\n",
              "  <tbody>\n",
              "    <tr>\n",
              "      <th>0</th>\n",
              "      <td>0.842105</td>\n",
              "      <td>0.191700</td>\n",
              "      <td>0.572193</td>\n",
              "      <td>0.257732</td>\n",
              "      <td>0.619565</td>\n",
              "      <td>0.627586</td>\n",
              "      <td>0.573840</td>\n",
              "      <td>0.283019</td>\n",
              "      <td>0.593060</td>\n",
              "      <td>0.372014</td>\n",
              "      <td>0.455285</td>\n",
              "      <td>0.970696</td>\n",
              "      <td>0.561341</td>\n",
              "      <td>0.0</td>\n",
              "    </tr>\n",
              "    <tr>\n",
              "      <th>1</th>\n",
              "      <td>0.571053</td>\n",
              "      <td>0.205534</td>\n",
              "      <td>0.417112</td>\n",
              "      <td>0.030928</td>\n",
              "      <td>0.326087</td>\n",
              "      <td>0.575862</td>\n",
              "      <td>0.510549</td>\n",
              "      <td>0.245283</td>\n",
              "      <td>0.274448</td>\n",
              "      <td>0.264505</td>\n",
              "      <td>0.463415</td>\n",
              "      <td>0.780220</td>\n",
              "      <td>0.550642</td>\n",
              "      <td>0.0</td>\n",
              "    </tr>\n",
              "    <tr>\n",
              "      <th>2</th>\n",
              "      <td>0.560526</td>\n",
              "      <td>0.320158</td>\n",
              "      <td>0.700535</td>\n",
              "      <td>0.412371</td>\n",
              "      <td>0.336957</td>\n",
              "      <td>0.627586</td>\n",
              "      <td>0.611814</td>\n",
              "      <td>0.320755</td>\n",
              "      <td>0.757098</td>\n",
              "      <td>0.375427</td>\n",
              "      <td>0.447154</td>\n",
              "      <td>0.695971</td>\n",
              "      <td>0.646933</td>\n",
              "      <td>0.0</td>\n",
              "    </tr>\n",
              "    <tr>\n",
              "      <th>3</th>\n",
              "      <td>0.878947</td>\n",
              "      <td>0.239130</td>\n",
              "      <td>0.609626</td>\n",
              "      <td>0.319588</td>\n",
              "      <td>0.467391</td>\n",
              "      <td>0.989655</td>\n",
              "      <td>0.664557</td>\n",
              "      <td>0.207547</td>\n",
              "      <td>0.558360</td>\n",
              "      <td>0.556314</td>\n",
              "      <td>0.308943</td>\n",
              "      <td>0.798535</td>\n",
              "      <td>0.857347</td>\n",
              "      <td>0.0</td>\n",
              "    </tr>\n",
              "    <tr>\n",
              "      <th>4</th>\n",
              "      <td>0.581579</td>\n",
              "      <td>0.365613</td>\n",
              "      <td>0.807487</td>\n",
              "      <td>0.536082</td>\n",
              "      <td>0.521739</td>\n",
              "      <td>0.627586</td>\n",
              "      <td>0.495781</td>\n",
              "      <td>0.490566</td>\n",
              "      <td>0.444795</td>\n",
              "      <td>0.259386</td>\n",
              "      <td>0.455285</td>\n",
              "      <td>0.608059</td>\n",
              "      <td>0.325963</td>\n",
              "      <td>0.0</td>\n",
              "    </tr>\n",
              "    <tr>\n",
              "      <th>...</th>\n",
              "      <td>...</td>\n",
              "      <td>...</td>\n",
              "      <td>...</td>\n",
              "      <td>...</td>\n",
              "      <td>...</td>\n",
              "      <td>...</td>\n",
              "      <td>...</td>\n",
              "      <td>...</td>\n",
              "      <td>...</td>\n",
              "      <td>...</td>\n",
              "      <td>...</td>\n",
              "      <td>...</td>\n",
              "      <td>...</td>\n",
              "      <td>...</td>\n",
              "    </tr>\n",
              "    <tr>\n",
              "      <th>173</th>\n",
              "      <td>0.705263</td>\n",
              "      <td>0.970356</td>\n",
              "      <td>0.582888</td>\n",
              "      <td>0.510309</td>\n",
              "      <td>0.271739</td>\n",
              "      <td>0.241379</td>\n",
              "      <td>0.056962</td>\n",
              "      <td>0.735849</td>\n",
              "      <td>0.205047</td>\n",
              "      <td>0.547782</td>\n",
              "      <td>0.130081</td>\n",
              "      <td>0.172161</td>\n",
              "      <td>0.329529</td>\n",
              "      <td>1.0</td>\n",
              "    </tr>\n",
              "    <tr>\n",
              "      <th>174</th>\n",
              "      <td>0.623684</td>\n",
              "      <td>0.626482</td>\n",
              "      <td>0.598930</td>\n",
              "      <td>0.639175</td>\n",
              "      <td>0.347826</td>\n",
              "      <td>0.282759</td>\n",
              "      <td>0.086498</td>\n",
              "      <td>0.566038</td>\n",
              "      <td>0.315457</td>\n",
              "      <td>0.513652</td>\n",
              "      <td>0.178862</td>\n",
              "      <td>0.106227</td>\n",
              "      <td>0.336662</td>\n",
              "      <td>1.0</td>\n",
              "    </tr>\n",
              "    <tr>\n",
              "      <th>175</th>\n",
              "      <td>0.589474</td>\n",
              "      <td>0.699605</td>\n",
              "      <td>0.481283</td>\n",
              "      <td>0.484536</td>\n",
              "      <td>0.543478</td>\n",
              "      <td>0.210345</td>\n",
              "      <td>0.073840</td>\n",
              "      <td>0.566038</td>\n",
              "      <td>0.296530</td>\n",
              "      <td>0.761092</td>\n",
              "      <td>0.089431</td>\n",
              "      <td>0.106227</td>\n",
              "      <td>0.397290</td>\n",
              "      <td>1.0</td>\n",
              "    </tr>\n",
              "    <tr>\n",
              "      <th>176</th>\n",
              "      <td>0.563158</td>\n",
              "      <td>0.365613</td>\n",
              "      <td>0.540107</td>\n",
              "      <td>0.484536</td>\n",
              "      <td>0.543478</td>\n",
              "      <td>0.231034</td>\n",
              "      <td>0.071730</td>\n",
              "      <td>0.754717</td>\n",
              "      <td>0.331230</td>\n",
              "      <td>0.684300</td>\n",
              "      <td>0.097561</td>\n",
              "      <td>0.128205</td>\n",
              "      <td>0.400856</td>\n",
              "      <td>1.0</td>\n",
              "    </tr>\n",
              "    <tr>\n",
              "      <th>177</th>\n",
              "      <td>0.815789</td>\n",
              "      <td>0.664032</td>\n",
              "      <td>0.737968</td>\n",
              "      <td>0.716495</td>\n",
              "      <td>0.282609</td>\n",
              "      <td>0.368966</td>\n",
              "      <td>0.088608</td>\n",
              "      <td>0.811321</td>\n",
              "      <td>0.296530</td>\n",
              "      <td>0.675768</td>\n",
              "      <td>0.105691</td>\n",
              "      <td>0.120879</td>\n",
              "      <td>0.201141</td>\n",
              "      <td>1.0</td>\n",
              "    </tr>\n",
              "  </tbody>\n",
              "</table>\n",
              "<p>178 rows × 14 columns</p>\n",
              "</div>"
            ],
            "text/plain": [
              "           0         1         2         3   ...        10        11        12   13\n",
              "0    0.842105  0.191700  0.572193  0.257732  ...  0.455285  0.970696  0.561341  0.0\n",
              "1    0.571053  0.205534  0.417112  0.030928  ...  0.463415  0.780220  0.550642  0.0\n",
              "2    0.560526  0.320158  0.700535  0.412371  ...  0.447154  0.695971  0.646933  0.0\n",
              "3    0.878947  0.239130  0.609626  0.319588  ...  0.308943  0.798535  0.857347  0.0\n",
              "4    0.581579  0.365613  0.807487  0.536082  ...  0.455285  0.608059  0.325963  0.0\n",
              "..        ...       ...       ...       ...  ...       ...       ...       ...  ...\n",
              "173  0.705263  0.970356  0.582888  0.510309  ...  0.130081  0.172161  0.329529  1.0\n",
              "174  0.623684  0.626482  0.598930  0.639175  ...  0.178862  0.106227  0.336662  1.0\n",
              "175  0.589474  0.699605  0.481283  0.484536  ...  0.089431  0.106227  0.397290  1.0\n",
              "176  0.563158  0.365613  0.540107  0.484536  ...  0.097561  0.128205  0.400856  1.0\n",
              "177  0.815789  0.664032  0.737968  0.716495  ...  0.105691  0.120879  0.201141  1.0\n",
              "\n",
              "[178 rows x 14 columns]"
            ]
          },
          "metadata": {},
          "execution_count": 21
        }
      ]
    },
    {
      "cell_type": "code",
      "metadata": {
        "colab": {
          "base_uri": "https://localhost:8080/"
        },
        "id": "PUGihLC5nr1V",
        "outputId": "aab1c19a-90cc-40aa-8c9d-8e24f92e528d"
      },
      "source": [
        "wine.target_names\n"
      ],
      "execution_count": null,
      "outputs": [
        {
          "output_type": "execute_result",
          "data": {
            "text/plain": [
              "array(['class_0', 'class_1', 'class_2'], dtype='<U7')"
            ]
          },
          "metadata": {},
          "execution_count": 22
        }
      ]
    },
    {
      "cell_type": "code",
      "metadata": {
        "id": "nk1YoiOLnvQp"
      },
      "source": [
        "class_0 = df[lambda a: a[13]==0]\n",
        "class_1 = df[lambda a: a[13]==0.5]\n",
        "class_2 = df[lambda a: a[13]==1]"
      ],
      "execution_count": null,
      "outputs": []
    },
    {
      "cell_type": "code",
      "metadata": {
        "id": "OlBPEK3DnxH2"
      },
      "source": [
        "df1 = df.copy(deep=True)\n",
        "for i in range(len(df1)):\n",
        "  if df1.iloc[i,13]==0:\n",
        "    df1.iloc[i,13]=1\n",
        "  else:\n",
        "    df1.iloc[i,13]=0\n"
      ],
      "execution_count": null,
      "outputs": []
    },
    {
      "cell_type": "code",
      "metadata": {
        "colab": {
          "base_uri": "https://localhost:8080/",
          "height": 423
        },
        "id": "No-2SukQqpng",
        "outputId": "c9c3710e-d5af-4cd1-ef9d-c52ab345957b"
      },
      "source": [
        "df1"
      ],
      "execution_count": null,
      "outputs": [
        {
          "output_type": "execute_result",
          "data": {
            "text/html": [
              "<div>\n",
              "<style scoped>\n",
              "    .dataframe tbody tr th:only-of-type {\n",
              "        vertical-align: middle;\n",
              "    }\n",
              "\n",
              "    .dataframe tbody tr th {\n",
              "        vertical-align: top;\n",
              "    }\n",
              "\n",
              "    .dataframe thead th {\n",
              "        text-align: right;\n",
              "    }\n",
              "</style>\n",
              "<table border=\"1\" class=\"dataframe\">\n",
              "  <thead>\n",
              "    <tr style=\"text-align: right;\">\n",
              "      <th></th>\n",
              "      <th>0</th>\n",
              "      <th>1</th>\n",
              "      <th>2</th>\n",
              "      <th>3</th>\n",
              "      <th>4</th>\n",
              "      <th>5</th>\n",
              "      <th>6</th>\n",
              "      <th>7</th>\n",
              "      <th>8</th>\n",
              "      <th>9</th>\n",
              "      <th>10</th>\n",
              "      <th>11</th>\n",
              "      <th>12</th>\n",
              "      <th>13</th>\n",
              "    </tr>\n",
              "  </thead>\n",
              "  <tbody>\n",
              "    <tr>\n",
              "      <th>0</th>\n",
              "      <td>0.842105</td>\n",
              "      <td>0.191700</td>\n",
              "      <td>0.572193</td>\n",
              "      <td>0.257732</td>\n",
              "      <td>0.619565</td>\n",
              "      <td>0.627586</td>\n",
              "      <td>0.573840</td>\n",
              "      <td>0.283019</td>\n",
              "      <td>0.593060</td>\n",
              "      <td>0.372014</td>\n",
              "      <td>0.455285</td>\n",
              "      <td>0.970696</td>\n",
              "      <td>0.561341</td>\n",
              "      <td>1.0</td>\n",
              "    </tr>\n",
              "    <tr>\n",
              "      <th>1</th>\n",
              "      <td>0.571053</td>\n",
              "      <td>0.205534</td>\n",
              "      <td>0.417112</td>\n",
              "      <td>0.030928</td>\n",
              "      <td>0.326087</td>\n",
              "      <td>0.575862</td>\n",
              "      <td>0.510549</td>\n",
              "      <td>0.245283</td>\n",
              "      <td>0.274448</td>\n",
              "      <td>0.264505</td>\n",
              "      <td>0.463415</td>\n",
              "      <td>0.780220</td>\n",
              "      <td>0.550642</td>\n",
              "      <td>1.0</td>\n",
              "    </tr>\n",
              "    <tr>\n",
              "      <th>2</th>\n",
              "      <td>0.560526</td>\n",
              "      <td>0.320158</td>\n",
              "      <td>0.700535</td>\n",
              "      <td>0.412371</td>\n",
              "      <td>0.336957</td>\n",
              "      <td>0.627586</td>\n",
              "      <td>0.611814</td>\n",
              "      <td>0.320755</td>\n",
              "      <td>0.757098</td>\n",
              "      <td>0.375427</td>\n",
              "      <td>0.447154</td>\n",
              "      <td>0.695971</td>\n",
              "      <td>0.646933</td>\n",
              "      <td>1.0</td>\n",
              "    </tr>\n",
              "    <tr>\n",
              "      <th>3</th>\n",
              "      <td>0.878947</td>\n",
              "      <td>0.239130</td>\n",
              "      <td>0.609626</td>\n",
              "      <td>0.319588</td>\n",
              "      <td>0.467391</td>\n",
              "      <td>0.989655</td>\n",
              "      <td>0.664557</td>\n",
              "      <td>0.207547</td>\n",
              "      <td>0.558360</td>\n",
              "      <td>0.556314</td>\n",
              "      <td>0.308943</td>\n",
              "      <td>0.798535</td>\n",
              "      <td>0.857347</td>\n",
              "      <td>1.0</td>\n",
              "    </tr>\n",
              "    <tr>\n",
              "      <th>4</th>\n",
              "      <td>0.581579</td>\n",
              "      <td>0.365613</td>\n",
              "      <td>0.807487</td>\n",
              "      <td>0.536082</td>\n",
              "      <td>0.521739</td>\n",
              "      <td>0.627586</td>\n",
              "      <td>0.495781</td>\n",
              "      <td>0.490566</td>\n",
              "      <td>0.444795</td>\n",
              "      <td>0.259386</td>\n",
              "      <td>0.455285</td>\n",
              "      <td>0.608059</td>\n",
              "      <td>0.325963</td>\n",
              "      <td>1.0</td>\n",
              "    </tr>\n",
              "    <tr>\n",
              "      <th>...</th>\n",
              "      <td>...</td>\n",
              "      <td>...</td>\n",
              "      <td>...</td>\n",
              "      <td>...</td>\n",
              "      <td>...</td>\n",
              "      <td>...</td>\n",
              "      <td>...</td>\n",
              "      <td>...</td>\n",
              "      <td>...</td>\n",
              "      <td>...</td>\n",
              "      <td>...</td>\n",
              "      <td>...</td>\n",
              "      <td>...</td>\n",
              "      <td>...</td>\n",
              "    </tr>\n",
              "    <tr>\n",
              "      <th>173</th>\n",
              "      <td>0.705263</td>\n",
              "      <td>0.970356</td>\n",
              "      <td>0.582888</td>\n",
              "      <td>0.510309</td>\n",
              "      <td>0.271739</td>\n",
              "      <td>0.241379</td>\n",
              "      <td>0.056962</td>\n",
              "      <td>0.735849</td>\n",
              "      <td>0.205047</td>\n",
              "      <td>0.547782</td>\n",
              "      <td>0.130081</td>\n",
              "      <td>0.172161</td>\n",
              "      <td>0.329529</td>\n",
              "      <td>0.0</td>\n",
              "    </tr>\n",
              "    <tr>\n",
              "      <th>174</th>\n",
              "      <td>0.623684</td>\n",
              "      <td>0.626482</td>\n",
              "      <td>0.598930</td>\n",
              "      <td>0.639175</td>\n",
              "      <td>0.347826</td>\n",
              "      <td>0.282759</td>\n",
              "      <td>0.086498</td>\n",
              "      <td>0.566038</td>\n",
              "      <td>0.315457</td>\n",
              "      <td>0.513652</td>\n",
              "      <td>0.178862</td>\n",
              "      <td>0.106227</td>\n",
              "      <td>0.336662</td>\n",
              "      <td>0.0</td>\n",
              "    </tr>\n",
              "    <tr>\n",
              "      <th>175</th>\n",
              "      <td>0.589474</td>\n",
              "      <td>0.699605</td>\n",
              "      <td>0.481283</td>\n",
              "      <td>0.484536</td>\n",
              "      <td>0.543478</td>\n",
              "      <td>0.210345</td>\n",
              "      <td>0.073840</td>\n",
              "      <td>0.566038</td>\n",
              "      <td>0.296530</td>\n",
              "      <td>0.761092</td>\n",
              "      <td>0.089431</td>\n",
              "      <td>0.106227</td>\n",
              "      <td>0.397290</td>\n",
              "      <td>0.0</td>\n",
              "    </tr>\n",
              "    <tr>\n",
              "      <th>176</th>\n",
              "      <td>0.563158</td>\n",
              "      <td>0.365613</td>\n",
              "      <td>0.540107</td>\n",
              "      <td>0.484536</td>\n",
              "      <td>0.543478</td>\n",
              "      <td>0.231034</td>\n",
              "      <td>0.071730</td>\n",
              "      <td>0.754717</td>\n",
              "      <td>0.331230</td>\n",
              "      <td>0.684300</td>\n",
              "      <td>0.097561</td>\n",
              "      <td>0.128205</td>\n",
              "      <td>0.400856</td>\n",
              "      <td>0.0</td>\n",
              "    </tr>\n",
              "    <tr>\n",
              "      <th>177</th>\n",
              "      <td>0.815789</td>\n",
              "      <td>0.664032</td>\n",
              "      <td>0.737968</td>\n",
              "      <td>0.716495</td>\n",
              "      <td>0.282609</td>\n",
              "      <td>0.368966</td>\n",
              "      <td>0.088608</td>\n",
              "      <td>0.811321</td>\n",
              "      <td>0.296530</td>\n",
              "      <td>0.675768</td>\n",
              "      <td>0.105691</td>\n",
              "      <td>0.120879</td>\n",
              "      <td>0.201141</td>\n",
              "      <td>0.0</td>\n",
              "    </tr>\n",
              "  </tbody>\n",
              "</table>\n",
              "<p>178 rows × 14 columns</p>\n",
              "</div>"
            ],
            "text/plain": [
              "           0         1         2         3   ...        10        11        12   13\n",
              "0    0.842105  0.191700  0.572193  0.257732  ...  0.455285  0.970696  0.561341  1.0\n",
              "1    0.571053  0.205534  0.417112  0.030928  ...  0.463415  0.780220  0.550642  1.0\n",
              "2    0.560526  0.320158  0.700535  0.412371  ...  0.447154  0.695971  0.646933  1.0\n",
              "3    0.878947  0.239130  0.609626  0.319588  ...  0.308943  0.798535  0.857347  1.0\n",
              "4    0.581579  0.365613  0.807487  0.536082  ...  0.455285  0.608059  0.325963  1.0\n",
              "..        ...       ...       ...       ...  ...       ...       ...       ...  ...\n",
              "173  0.705263  0.970356  0.582888  0.510309  ...  0.130081  0.172161  0.329529  0.0\n",
              "174  0.623684  0.626482  0.598930  0.639175  ...  0.178862  0.106227  0.336662  0.0\n",
              "175  0.589474  0.699605  0.481283  0.484536  ...  0.089431  0.106227  0.397290  0.0\n",
              "176  0.563158  0.365613  0.540107  0.484536  ...  0.097561  0.128205  0.400856  0.0\n",
              "177  0.815789  0.664032  0.737968  0.716495  ...  0.105691  0.120879  0.201141  0.0\n",
              "\n",
              "[178 rows x 14 columns]"
            ]
          },
          "metadata": {},
          "execution_count": 25
        }
      ]
    },
    {
      "cell_type": "code",
      "metadata": {
        "id": "Sl2HdRBWq0fD"
      },
      "source": [
        ""
      ],
      "execution_count": null,
      "outputs": []
    },
    {
      "cell_type": "code",
      "metadata": {
        "id": "ZKVZSn4En1a3"
      },
      "source": [
        "df2 = df.copy(deep=True)\n",
        "for i in range(len(df2)):\n",
        "  if df2.iloc[i,13]==0.5:\n",
        "    df2.iloc[i,13]=1\n",
        "  else:\n",
        "    df2.iloc[i,13]=0\n"
      ],
      "execution_count": null,
      "outputs": []
    },
    {
      "cell_type": "code",
      "metadata": {
        "id": "aN7IrrKKrcAB",
        "colab": {
          "base_uri": "https://localhost:8080/"
        },
        "outputId": "ac24770c-70e4-41bf-aedd-e6a617a7b501"
      },
      "source": [
        "len(df2)"
      ],
      "execution_count": null,
      "outputs": [
        {
          "output_type": "execute_result",
          "data": {
            "text/plain": [
              "178"
            ]
          },
          "metadata": {},
          "execution_count": 31
        }
      ]
    },
    {
      "cell_type": "code",
      "metadata": {
        "id": "M26rYrTJn3cO"
      },
      "source": [
        "df3 = df.copy(deep=True)\n",
        "for i in range(len(df3)):\n",
        "  if df3.iloc[i,13]==0.5:\n",
        "    df3.iloc[i,13]=1\n",
        "  else:\n",
        "    df3.iloc[i,13]=0\n"
      ],
      "execution_count": null,
      "outputs": []
    },
    {
      "cell_type": "code",
      "metadata": {
        "id": "8N9x-yT-n5nf"
      },
      "source": [
        "class_1_train = df1.sample(frac=0.4)\n",
        "temp = df1.drop(class_1_train.index)\n",
        "class_1_validation = temp.sample(frac=0.3/0.6)\n",
        "class_1_test = temp.drop(class_1_validation.index)"
      ],
      "execution_count": null,
      "outputs": []
    },
    {
      "cell_type": "code",
      "metadata": {
        "id": "AFNTTFcLn7Nv"
      },
      "source": [
        "class_2_train = df2.sample(frac=0.4)\n",
        "temp = df2.drop(class_2_train.index)\n",
        "class_2_validation = temp.sample(frac=0.3/0.6)\n",
        "class_2_test = temp.drop(class_2_validation.index)"
      ],
      "execution_count": null,
      "outputs": []
    },
    {
      "cell_type": "code",
      "metadata": {
        "id": "9S2q4-0Kn9HD"
      },
      "source": [
        "class_3_train = df3.sample(frac=0.4)\n",
        "temp = df3.drop(class_3_train.index)\n",
        "class_3_validation = temp.sample(frac=0.3/0.6)\n",
        "class_3_test = temp.drop(class_3_validation.index)"
      ],
      "execution_count": null,
      "outputs": []
    },
    {
      "cell_type": "code",
      "metadata": {
        "id": "txsyz6tGoCEa"
      },
      "source": [
        "import math\n",
        "def logfun(arr):\n",
        "  lst = []\n",
        "  for i in range(len(arr)):\n",
        "    lst.append(math.log(arr[i]))\n",
        "  return np.array(lst)"
      ],
      "execution_count": null,
      "outputs": []
    },
    {
      "cell_type": "code",
      "metadata": {
        "id": "QJo0UaNhoD5A"
      },
      "source": [
        "def hypothesis(w,x):\n",
        "  y=w[0] \n",
        "  for i in range(13):\n",
        "    y = y + np.array(w[i+1])*x[:,i]\n",
        "  gx = 1/(1+(math.e)**(-1*y))\n",
        "  return gx"
      ],
      "execution_count": null,
      "outputs": []
    },
    {
      "cell_type": "code",
      "metadata": {
        "id": "eA-CnSiOoRVT"
      },
      "source": [
        "def mse(w,x_dataset, y_dataset):\n",
        "  t =  np.mean((hypothesis(w,x_dataset)-y_dataset)**2)/2\n",
        "  return t"
      ],
      "execution_count": null,
      "outputs": []
    },
    {
      "cell_type": "code",
      "metadata": {
        "id": "gDkgFwbtoqEE"
      },
      "source": [
        "def logLoss(w,x_dataset,y_dataset):\n",
        "  hx = hypothesis(w,x_dataset)\n",
        "  y = np.mean(((-1*y_dataset*logfun(hx)) - ((1-y_dataset)*logfun(1-hx))))\n",
        "  return y"
      ],
      "execution_count": null,
      "outputs": []
    },
    {
      "cell_type": "code",
      "metadata": {
        "id": "3nWNcZf2ouTd"
      },
      "source": [
        "def update_coeff(w,indx,alpha,x_dataset,y_dataset,hx):\n",
        "  if indx is 0:\n",
        "    xij = 1\n",
        "  else:\n",
        "    xij = x_dataset[:,indx-1]\n",
        "  wj = w[indx] - np.sum(((hx - y_dataset)*xij))*(alpha/len(x_dataset))\n",
        "  return wj"
      ],
      "execution_count": null,
      "outputs": []
    },
    {
      "cell_type": "code",
      "metadata": {
        "id": "OlYYXkMNowSu"
      },
      "source": [
        "def print_logloss(w,dataset,alpha,rho,epoch):\n",
        "  x = np.array(dataset.iloc[:,:13])\n",
        "  y = np.array(dataset.iloc[:,13:])\n",
        "  i=0\n",
        "  diff=9999999\n",
        "  current_logloss=9999999\n",
        "  t = []\n",
        "  while diff > rho and i < epoch:\n",
        "    hx = hypothesis(w,x)\n",
        "    for j in range(13):\n",
        "      t.append(update_coeff(w,j,alpha,x,y,hx))\n",
        "    for k in range(13):\n",
        "      w[k]=t[k]\n",
        "    i = i+1\n",
        "    temp = logLoss(w,x,y)\n",
        "    diff = current_logloss - temp\n",
        "    current_logloss = temp\n",
        "  current_logloss = logLoss(w,x,y)\n",
        "  print(\"Log Loss for\",\"Learning rate : {}\".format(alpha),\"rho : {}\".format(rho),\"epoch : {}\".format(epoch),\"is\",current_logloss)\n",
        "  #return current_mse"
      ],
      "execution_count": null,
      "outputs": []
    },
    {
      "cell_type": "code",
      "metadata": {
        "id": "vINxaYX0o0kO"
      },
      "source": [
        "w1 = np.ones(14)\n",
        "w2 = np.ones(14)\n",
        "w3 = np.ones(14)"
      ],
      "execution_count": null,
      "outputs": []
    },
    {
      "cell_type": "code",
      "metadata": {
        "id": "JEXqXDxKo2FI"
      },
      "source": [
        "print_logloss(w1,class_1_validation,0.1,0.1,10)\n",
        "w1 = np.ones(14)\n",
        "print_logloss(w1,class_1_validation,0.01,0.01,20)\n",
        "w1 = np.ones(14)\n",
        "print_logloss(w1,class_1_validation,0.05,0.01,30)\n",
        "w1 = np.ones(14)\n",
        "print_logloss(w1,class_1_validation,0.001,0.01,40)\n",
        "w1 = np.ones(14)\n",
        "print_logloss(w1,class_1_validation,0.2,0.01,40)\n",
        "w1 = np.ones(14)\n",
        "print_logloss(w1,class_1_validation,0.05,0.001,40)"
      ],
      "execution_count": null,
      "outputs": []
    },
    {
      "cell_type": "code",
      "metadata": {
        "id": "JLAY_Sbco47c"
      },
      "source": [
        "w1 = np.ones(14)\n",
        "print_logloss(w1,class_1_train,0.05,0.001,40)"
      ],
      "execution_count": null,
      "outputs": []
    },
    {
      "cell_type": "code",
      "metadata": {
        "id": "EuYlRTioo68X"
      },
      "source": [
        "print_logloss(w2,class_2_validation,0.1,0.1,10)\n",
        "w2 = np.ones(14)\n",
        "print_logloss(w2,class_2_validation,0.01,0.01,20)\n",
        "w2 = np.ones(14)\n",
        "print_logloss(w2,class_2_validation,0.05,0.01,30)\n",
        "w2 = np.ones(14)\n",
        "print_logloss(w2,class_2_validation,0.001,0.01,40)\n",
        "w2 = np.ones(14)\n",
        "print_logloss(w2,class_2_validation,0.2,0.01,40)\n",
        "w2 = np.ones(14)\n",
        "print_logloss(w2,class_2_validation,0.05,0.001,40)"
      ],
      "execution_count": null,
      "outputs": []
    },
    {
      "cell_type": "code",
      "metadata": {
        "id": "YPniB_SJo9g8"
      },
      "source": [
        "w2 = np.ones(14)\n",
        "print_logloss(w2,class_2_train,0.05,0.001,40)"
      ],
      "execution_count": null,
      "outputs": []
    },
    {
      "cell_type": "code",
      "metadata": {
        "id": "nku6o-ngo_32"
      },
      "source": [
        "print_logloss(w3,class_3_validation,0.1,0.1,10)\n",
        "w3 = np.ones(14)\n",
        "print_logloss(w3,class_3_validation,0.01,0.01,20)\n",
        "w3 = np.ones(14)\n",
        "print_logloss(w3,class_3_validation,0.05,0.01,30)\n",
        "w3 = np.ones(14)\n",
        "print_logloss(w3,class_3_validation,0.001,0.01,40)\n",
        "w3 = np.ones(14)\n",
        "print_logloss(w3,class_3_validation,0.2,0.01,40)\n",
        "w3 = np.ones(14)\n",
        "print_logloss(w3,class_3_validation,0.05,0.001,40)"
      ],
      "execution_count": null,
      "outputs": []
    },
    {
      "cell_type": "code",
      "metadata": {
        "id": "jGne7vqlpL_H"
      },
      "source": [
        "w3 = np.ones(14)\n",
        "print_logloss(w3,class_3_train,0.05,0.001,40)"
      ],
      "execution_count": null,
      "outputs": []
    },
    {
      "cell_type": "code",
      "metadata": {
        "id": "JgdR_nwr0T-_"
      },
      "source": [
        ""
      ],
      "execution_count": null,
      "outputs": []
    },
    {
      "cell_type": "code",
      "metadata": {
        "id": "jsEbst0HqJWP"
      },
      "source": [
        "def plotting(x, y_1, y_2, label_1, label_2, t):\n",
        "      plt.plot(x, y_1, label = label_1)\n",
        "      plt.plot(x, y_2, label = label_2)\n",
        "      plt.title(t)\n",
        "      plt.show()"
      ],
      "execution_count": null,
      "outputs": []
    }
  ]
}