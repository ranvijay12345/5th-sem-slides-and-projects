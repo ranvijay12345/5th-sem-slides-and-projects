{
 "cells": [
  {
   "cell_type": "code",
   "execution_count": 1,
   "metadata": {
    "id": "uJl2-TWjIRCD"
   },
   "outputs": [],
   "source": [
    "import pandas as pd"
   ]
  },
  {
   "cell_type": "code",
   "execution_count": 1,
   "metadata": {
    "colab": {
     "base_uri": "https://localhost:8080/",
     "height": 834
    },
    "id": "tWWP0tUZIUXK",
    "outputId": "ae6c841d-1f94-40bd-9933-9d01e89f93ed",
    "scrolled": true,
    "tags": []
   },
   "outputs": [
    {
     "ename": "NameError",
     "evalue": "name 'pd' is not defined",
     "output_type": "error",
     "traceback": [
      "\u001b[1;31m---------------------------------------------------------------------------\u001b[0m",
      "\u001b[1;31mNameError\u001b[0m                                 Traceback (most recent call last)",
      "\u001b[1;32m<ipython-input-1-66592ae6fdaf>\u001b[0m in \u001b[0;36m<module>\u001b[1;34m\u001b[0m\n\u001b[1;32m----> 1\u001b[1;33m \u001b[0mstudent_scores\u001b[0m \u001b[1;33m=\u001b[0m \u001b[0mpd\u001b[0m\u001b[1;33m.\u001b[0m\u001b[0mread_csv\u001b[0m\u001b[1;33m(\u001b[0m\u001b[1;34m\"student_scores.csv\"\u001b[0m\u001b[1;33m)\u001b[0m\u001b[1;33m\u001b[0m\u001b[1;33m\u001b[0m\u001b[0m\n\u001b[0m\u001b[0;32m      2\u001b[0m \u001b[0mstudent_scores\u001b[0m\u001b[1;33m\u001b[0m\u001b[1;33m\u001b[0m\u001b[0m\n",
      "\u001b[1;31mNameError\u001b[0m: name 'pd' is not defined"
     ]
    }
   ],
   "source": [
    "student_scores = pd.read_csv(\"student_scores.csv\")\n",
    "student_scores"
   ]
  },
  {
   "cell_type": "markdown",
   "metadata": {
    "id": "v9IUogssNXs4"
   },
   "source": [
    "# Problem 1"
   ]
  },
  {
   "cell_type": "code",
   "execution_count": 3,
   "metadata": {
    "colab": {
     "base_uri": "https://localhost:8080/"
    },
    "id": "XbFbWmyuJ3Bi",
    "outputId": "05dda8e7-5a94-4af2-c6d7-a4be71067134"
   },
   "outputs": [
    {
     "data": {
      "text/plain": [
       "(25, 2)"
      ]
     },
     "execution_count": 3,
     "metadata": {},
     "output_type": "execute_result"
    }
   ],
   "source": [
    "student_scores.shape"
   ]
  },
  {
   "cell_type": "markdown",
   "metadata": {
    "id": "I_B10QbPNmv9"
   },
   "source": [
    "## Number of features"
   ]
  },
  {
   "cell_type": "code",
   "execution_count": 4,
   "metadata": {
    "colab": {
     "base_uri": "https://localhost:8080/"
    },
    "id": "CUcKk2FaLDw7",
    "outputId": "20904641-40dc-476d-a597-d3fb7e8ca4e5"
   },
   "outputs": [
    {
     "data": {
      "text/plain": [
       "2"
      ]
     },
     "execution_count": 4,
     "metadata": {},
     "output_type": "execute_result"
    }
   ],
   "source": [
    "len(student_scores.columns)  # number of features"
   ]
  },
  {
   "cell_type": "markdown",
   "metadata": {
    "id": "jCjHwbyZOCn3"
   },
   "source": [
    "## Number of patterns"
   ]
  },
  {
   "cell_type": "code",
   "execution_count": 5,
   "metadata": {
    "colab": {
     "base_uri": "https://localhost:8080/"
    },
    "id": "dp2jpuprME4v",
    "outputId": "397a3c16-7e1d-4ce8-e36a-cc921a3ffe71"
   },
   "outputs": [
    {
     "data": {
      "text/plain": [
       "25"
      ]
     },
     "execution_count": 5,
     "metadata": {},
     "output_type": "execute_result"
    }
   ],
   "source": [
    "len(student_scores)"
   ]
  },
  {
   "cell_type": "markdown",
   "metadata": {
    "id": "nNS7HoquOjn1"
   },
   "source": [
    "## Range of output: TODO"
   ]
  },
  {
   "cell_type": "markdown",
   "metadata": {
    "id": "XUdrCedjRUXM",
    "tags": []
   },
   "source": [
    "# Problem 2"
   ]
  },
  {
   "cell_type": "markdown",
   "metadata": {
    "id": "aKhj8dihRkqb"
   },
   "source": [
    "Split the dataset in `X:Y`."
   ]
  },
  {
   "cell_type": "markdown",
   "metadata": {
    "id": "ostsHjJ7Renv",
    "tags": []
   },
   "source": [
    "## Part a\n",
    "\n",
    "X = 10:10:90 (i.e., initial: 10%, increment by 10%, maximum is 90%)"
   ]
  },
  {
   "cell_type": "code",
   "execution_count": 6,
   "metadata": {
    "colab": {
     "base_uri": "https://localhost:8080/"
    },
    "id": "tPSf21shRWO9",
    "outputId": "9b09e1b4-c31f-438d-acee-90bc28f575c0",
    "scrolled": true,
    "tags": []
   },
   "outputs": [
    {
     "name": "stdout",
     "output_type": "stream",
     "text": [
      "    Hours  Scores\n",
      "0     2.5      21\n",
      "1     5.1      47\n",
      "2     3.2      27\n",
      "3     8.5      75\n",
      "4     3.5      30\n",
      "5     1.5      20\n",
      "6     9.2      88\n",
      "7     5.5      60\n",
      "8     8.3      81\n",
      "9     2.7      25\n",
      "10    7.7      85\n",
      "11    5.9      62\n",
      "12    4.5      41\n",
      "13    3.3      42\n",
      "14    1.1      17\n",
      "17    1.9      24\n",
      "18    6.1      67\n",
      "19    7.4      69\n",
      "20    2.7      30\n",
      "21    4.8      54\n",
      "22    3.8      35\n",
      "23    6.9      76\n",
      "24    7.8      86\n",
      "\n",
      "    Hours  Scores\n",
      "0     2.5      21\n",
      "1     5.1      47\n",
      "2     3.2      27\n",
      "4     3.5      30\n",
      "5     1.5      20\n",
      "6     9.2      88\n",
      "7     5.5      60\n",
      "11    5.9      62\n",
      "13    3.3      42\n",
      "14    1.1      17\n",
      "15    8.9      95\n",
      "16    2.5      30\n",
      "17    1.9      24\n",
      "18    6.1      67\n",
      "19    7.4      69\n",
      "20    2.7      30\n",
      "21    4.8      54\n",
      "22    3.8      35\n",
      "23    6.9      76\n",
      "24    7.8      86\n",
      "\n",
      "    Hours  Scores\n",
      "0     2.5      21\n",
      "3     8.5      75\n",
      "5     1.5      20\n",
      "6     9.2      88\n",
      "7     5.5      60\n",
      "8     8.3      81\n",
      "9     2.7      25\n",
      "12    4.5      41\n",
      "13    3.3      42\n",
      "14    1.1      17\n",
      "15    8.9      95\n",
      "16    2.5      30\n",
      "17    1.9      24\n",
      "19    7.4      69\n",
      "20    2.7      30\n",
      "21    4.8      54\n",
      "24    7.8      86\n",
      "\n",
      "    Hours  Scores\n",
      "0     2.5      21\n",
      "1     5.1      47\n",
      "2     3.2      27\n",
      "3     8.5      75\n",
      "4     3.5      30\n",
      "6     9.2      88\n",
      "9     2.7      25\n",
      "10    7.7      85\n",
      "12    4.5      41\n",
      "13    3.3      42\n",
      "16    2.5      30\n",
      "17    1.9      24\n",
      "18    6.1      67\n",
      "23    6.9      76\n",
      "24    7.8      86\n",
      "\n",
      "    Hours  Scores\n",
      "0     2.5      21\n",
      "1     5.1      47\n",
      "2     3.2      27\n",
      "4     3.5      30\n",
      "5     1.5      20\n",
      "7     5.5      60\n",
      "8     8.3      81\n",
      "15    8.9      95\n",
      "16    2.5      30\n",
      "17    1.9      24\n",
      "18    6.1      67\n",
      "20    2.7      30\n",
      "22    3.8      35\n",
      "\n",
      "    Hours  Scores\n",
      "0     2.5      21\n",
      "3     8.5      75\n",
      "5     1.5      20\n",
      "6     9.2      88\n",
      "7     5.5      60\n",
      "9     2.7      25\n",
      "10    7.7      85\n",
      "18    6.1      67\n",
      "19    7.4      69\n",
      "21    4.8      54\n",
      "\n",
      "    Hours  Scores\n",
      "0     2.5      21\n",
      "3     8.5      75\n",
      "4     3.5      30\n",
      "8     8.3      81\n",
      "15    8.9      95\n",
      "20    2.7      30\n",
      "24    7.8      86\n",
      "\n",
      "    Hours  Scores\n",
      "1     5.1      47\n",
      "3     8.5      75\n",
      "4     3.5      30\n",
      "5     1.5      20\n",
      "19    7.4      69\n",
      "\n",
      "    Hours  Scores\n",
      "1     5.1      47\n",
      "4     3.5      30\n",
      "14    1.1      17\n",
      "\n"
     ]
    }
   ],
   "source": [
    "for train_percentage in range(10, 100, 10):\n",
    "    train_set = student_scores.sample(frac=train_percentage/100)\n",
    "    test_set = student_scores.drop(train_set.index)\n",
    "    print(test_set, end=\"\\n\\n\")"
   ]
  },
  {
   "cell_type": "markdown",
   "metadata": {},
   "source": [
    "## Part b\n",
    "\n",
    "Y = 90:10:10 (i.e., initial: 90%, decrement by 10%, minimum is 10%)"
   ]
  },
  {
   "cell_type": "code",
   "execution_count": 7,
   "metadata": {
    "scrolled": true,
    "tags": []
   },
   "outputs": [
    {
     "name": "stdout",
     "output_type": "stream",
     "text": [
      "    Hours  Scores\n",
      "0     2.5      21\n",
      "7     5.5      60\n",
      "21    4.8      54\n",
      "\n",
      "    Hours  Scores\n",
      "0     2.5      21\n",
      "6     9.2      88\n",
      "9     2.7      25\n",
      "21    4.8      54\n",
      "23    6.9      76\n",
      "\n",
      "    Hours  Scores\n",
      "5     1.5      20\n",
      "10    7.7      85\n",
      "11    5.9      62\n",
      "15    8.9      95\n",
      "19    7.4      69\n",
      "20    2.7      30\n",
      "21    4.8      54\n",
      "\n",
      "    Hours  Scores\n",
      "2     3.2      27\n",
      "4     3.5      30\n",
      "6     9.2      88\n",
      "9     2.7      25\n",
      "10    7.7      85\n",
      "12    4.5      41\n",
      "15    8.9      95\n",
      "16    2.5      30\n",
      "23    6.9      76\n",
      "24    7.8      86\n",
      "\n",
      "    Hours  Scores\n",
      "0     2.5      21\n",
      "3     8.5      75\n",
      "4     3.5      30\n",
      "9     2.7      25\n",
      "12    4.5      41\n",
      "13    3.3      42\n",
      "14    1.1      17\n",
      "15    8.9      95\n",
      "16    2.5      30\n",
      "17    1.9      24\n",
      "18    6.1      67\n",
      "19    7.4      69\n",
      "23    6.9      76\n",
      "\n",
      "    Hours  Scores\n",
      "0     2.5      21\n",
      "1     5.1      47\n",
      "3     8.5      75\n",
      "4     3.5      30\n",
      "5     1.5      20\n",
      "6     9.2      88\n",
      "7     5.5      60\n",
      "8     8.3      81\n",
      "10    7.7      85\n",
      "11    5.9      62\n",
      "12    4.5      41\n",
      "16    2.5      30\n",
      "18    6.1      67\n",
      "20    2.7      30\n",
      "24    7.8      86\n",
      "\n",
      "    Hours  Scores\n",
      "0     2.5      21\n",
      "1     5.1      47\n",
      "3     8.5      75\n",
      "5     1.5      20\n",
      "6     9.2      88\n",
      "7     5.5      60\n",
      "10    7.7      85\n",
      "11    5.9      62\n",
      "12    4.5      41\n",
      "13    3.3      42\n",
      "14    1.1      17\n",
      "18    6.1      67\n",
      "19    7.4      69\n",
      "20    2.7      30\n",
      "21    4.8      54\n",
      "22    3.8      35\n",
      "24    7.8      86\n",
      "\n",
      "    Hours  Scores\n",
      "0     2.5      21\n",
      "1     5.1      47\n",
      "2     3.2      27\n",
      "3     8.5      75\n",
      "5     1.5      20\n",
      "6     9.2      88\n",
      "7     5.5      60\n",
      "8     8.3      81\n",
      "9     2.7      25\n",
      "10    7.7      85\n",
      "11    5.9      62\n",
      "12    4.5      41\n",
      "13    3.3      42\n",
      "14    1.1      17\n",
      "15    8.9      95\n",
      "18    6.1      67\n",
      "19    7.4      69\n",
      "20    2.7      30\n",
      "22    3.8      35\n",
      "23    6.9      76\n",
      "\n",
      "    Hours  Scores\n",
      "0     2.5      21\n",
      "1     5.1      47\n",
      "2     3.2      27\n",
      "3     8.5      75\n",
      "4     3.5      30\n",
      "5     1.5      20\n",
      "6     9.2      88\n",
      "7     5.5      60\n",
      "8     8.3      81\n",
      "9     2.7      25\n",
      "10    7.7      85\n",
      "11    5.9      62\n",
      "12    4.5      41\n",
      "13    3.3      42\n",
      "14    1.1      17\n",
      "15    8.9      95\n",
      "16    2.5      30\n",
      "17    1.9      24\n",
      "19    7.4      69\n",
      "20    2.7      30\n",
      "21    4.8      54\n",
      "23    6.9      76\n",
      "24    7.8      86\n",
      "\n"
     ]
    }
   ],
   "source": [
    "for test_percentage in range(90, 0, -10):\n",
    "    test_set = student_scores.sample(frac=test_percentage/100)\n",
    "    train_set = student_scores.drop(test_set.index)\n",
    "    print(train_set, end=\"\\n\\n\")"
   ]
  },
  {
   "cell_type": "markdown",
   "metadata": {
    "id": "jC1oxBpEUMdZ"
   },
   "source": [
    "# Problem 3\n",
    "\n",
    "Write a program to calculate the row-wise,column-wise, and\n",
    "overall mean, median, mode, and standard deviation of the\n",
    "dataset."
   ]
  },
  {
   "cell_type": "markdown",
   "metadata": {
    "id": "skBMlIpjUgS9"
   },
   "source": [
    "## Mean"
   ]
  },
  {
   "cell_type": "code",
   "execution_count": 20,
   "metadata": {
    "colab": {
     "base_uri": "https://localhost:8080/"
    },
    "id": "fprzN02wUPrB",
    "outputId": "c09759c6-ed2d-49a6-c192-ffb106427af6"
   },
   "outputs": [
    {
     "data": {
      "text/plain": [
       "Hours      5.012\n",
       "Scores    51.480\n",
       "dtype: float64"
      ]
     },
     "execution_count": 20,
     "metadata": {},
     "output_type": "execute_result"
    }
   ],
   "source": [
    "student_scores.mean()  # column wise"
   ]
  },
  {
   "cell_type": "code",
   "execution_count": 22,
   "metadata": {},
   "outputs": [
    {
     "data": {
      "text/plain": [
       "0     11.75\n",
       "1     26.05\n",
       "2     15.10\n",
       "3     41.75\n",
       "4     16.75\n",
       "5     10.75\n",
       "6     48.60\n",
       "7     32.75\n",
       "8     44.65\n",
       "9     13.85\n",
       "10    46.35\n",
       "11    33.95\n",
       "12    22.75\n",
       "13    22.65\n",
       "14     9.05\n",
       "15    51.95\n",
       "16    16.25\n",
       "17    12.95\n",
       "18    36.55\n",
       "19    38.20\n",
       "20    16.35\n",
       "21    29.40\n",
       "22    19.40\n",
       "23    41.45\n",
       "24    46.90\n",
       "dtype: float64"
      ]
     },
     "execution_count": 22,
     "metadata": {},
     "output_type": "execute_result"
    }
   ],
   "source": [
    "student_scores.mean(axis=1)  # row wise"
   ]
  },
  {
   "cell_type": "markdown",
   "metadata": {},
   "source": [
    "TODO: how to calculate overall mean"
   ]
  },
  {
   "cell_type": "markdown",
   "metadata": {
    "id": "s98lFe_mUjoz"
   },
   "source": [
    "## Median"
   ]
  },
  {
   "cell_type": "code",
   "execution_count": 9,
   "metadata": {
    "colab": {
     "base_uri": "https://localhost:8080/"
    },
    "id": "vkFfKaO9UnPB",
    "outputId": "a368f8e7-f725-4aa3-d665-4aa32f21c586"
   },
   "outputs": [
    {
     "data": {
      "text/plain": [
       "Hours      4.8\n",
       "Scores    47.0\n",
       "dtype: float64"
      ]
     },
     "execution_count": 9,
     "metadata": {},
     "output_type": "execute_result"
    }
   ],
   "source": [
    "student_scores.median()"
   ]
  },
  {
   "cell_type": "markdown",
   "metadata": {
    "id": "prlolX9FUrGr"
   },
   "source": [
    "## Mode"
   ]
  },
  {
   "cell_type": "code",
   "execution_count": 10,
   "metadata": {
    "colab": {
     "base_uri": "https://localhost:8080/",
     "height": 112
    },
    "id": "RhZZ8BTOUo2L",
    "outputId": "d41deb3c-f8a6-4f01-d7e9-62e3520bdd7c"
   },
   "outputs": [
    {
     "data": {
      "text/html": [
       "<div>\n",
       "<style scoped>\n",
       "    .dataframe tbody tr th:only-of-type {\n",
       "        vertical-align: middle;\n",
       "    }\n",
       "\n",
       "    .dataframe tbody tr th {\n",
       "        vertical-align: top;\n",
       "    }\n",
       "\n",
       "    .dataframe thead th {\n",
       "        text-align: right;\n",
       "    }\n",
       "</style>\n",
       "<table border=\"1\" class=\"dataframe\">\n",
       "  <thead>\n",
       "    <tr style=\"text-align: right;\">\n",
       "      <th></th>\n",
       "      <th>Hours</th>\n",
       "      <th>Scores</th>\n",
       "    </tr>\n",
       "  </thead>\n",
       "  <tbody>\n",
       "    <tr>\n",
       "      <th>0</th>\n",
       "      <td>2.5</td>\n",
       "      <td>30.0</td>\n",
       "    </tr>\n",
       "    <tr>\n",
       "      <th>1</th>\n",
       "      <td>2.7</td>\n",
       "      <td>NaN</td>\n",
       "    </tr>\n",
       "  </tbody>\n",
       "</table>\n",
       "</div>"
      ],
      "text/plain": [
       "   Hours  Scores\n",
       "0    2.5    30.0\n",
       "1    2.7     NaN"
      ]
     },
     "execution_count": 10,
     "metadata": {},
     "output_type": "execute_result"
    }
   ],
   "source": [
    "student_scores.mode()"
   ]
  },
  {
   "cell_type": "markdown",
   "metadata": {
    "id": "FM9lQ16lVHNU"
   },
   "source": [
    "## Standard deviation"
   ]
  },
  {
   "cell_type": "code",
   "execution_count": 11,
   "metadata": {
    "colab": {
     "base_uri": "https://localhost:8080/"
    },
    "id": "V4SV8kGiUtPe",
    "outputId": "126ee570-f581-4854-9d62-00a85b370a1f"
   },
   "outputs": [
    {
     "data": {
      "text/plain": [
       "Hours      2.525094\n",
       "Scores    25.286887\n",
       "dtype: float64"
      ]
     },
     "execution_count": 11,
     "metadata": {},
     "output_type": "execute_result"
    }
   ],
   "source": [
    "student_scores.std()"
   ]
  },
  {
   "cell_type": "markdown",
   "metadata": {},
   "source": [
    "# Problem 4\n",
    "\n",
    "Calculate the sum square error for polynomial curve fitting\n",
    "problem using the dataset."
   ]
  }
 ],
 "metadata": {
  "colab": {
   "name": "Untitled0.ipynb",
   "provenance": []
  },
  "kernelspec": {
   "display_name": "Python 3",
   "language": "python",
   "name": "python3"
  },
  "language_info": {
   "codemirror_mode": {
    "name": "ipython",
    "version": 3
   },
   "file_extension": ".py",
   "mimetype": "text/x-python",
   "name": "python",
   "nbconvert_exporter": "python",
   "pygments_lexer": "ipython3",
   "version": "3.8.8"
  },
  "toc-autonumbering": true,
  "toc-showcode": false,
  "toc-showmarkdowntxt": true,
  "toc-showtags": false
 },
 "nbformat": 4,
 "nbformat_minor": 4
}
