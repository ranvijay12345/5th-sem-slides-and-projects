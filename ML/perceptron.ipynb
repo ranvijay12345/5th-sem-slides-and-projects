{
 "cells": [
  {
   "cell_type": "code",
   "execution_count": 19,
   "id": "584fe907",
   "metadata": {},
   "outputs": [
    {
     "name": "stderr",
     "output_type": "stream",
     "text": [
      "C:\\Users\\VENDEORS\\anaconda3\\lib\\site-packages\\ipykernel\\ipkernel.py:287: DeprecationWarning: `should_run_async` will not call `transform_cell` automatically in the future. Please pass the result to `transformed_cell` argument and any exception that happen during thetransform in `preprocessing_exc_tuple` in IPython 7.17 and above.\n",
      "  and should_run_async(code)\n"
     ]
    }
   ],
   "source": [
    "import numpy as np\n",
    "import pandas as pd \n",
    "import matplotlib.pyplot as plt\n",
    "import seaborn as sns\n",
    "import random\n",
    "import warnings\n",
    "from matplotlib import pyplot as plt\n",
    "warnings.filterwarnings('default')\n",
    "from sklearn.utils import shuffle\n",
    "from sklearn.metrics import confusion_matrix, precision_score, recall_score, f1_score, accuracy_score, classification_report"
   ]
  },
  {
   "cell_type": "code",
   "execution_count": 20,
   "id": "21f3c3f6",
   "metadata": {},
   "outputs": [
    {
     "name": "stderr",
     "output_type": "stream",
     "text": [
      "C:\\Users\\VENDEORS\\anaconda3\\lib\\site-packages\\ipykernel\\ipkernel.py:287: DeprecationWarning: `should_run_async` will not call `transform_cell` automatically in the future. Please pass the result to `transformed_cell` argument and any exception that happen during thetransform in `preprocessing_exc_tuple` in IPython 7.17 and above.\n",
      "  and should_run_async(code)\n"
     ]
    }
   ],
   "source": [
    "def predict(x_test, y_test, weight):\n",
    "    \n",
    "    y_pred = np.ones(x_test.shape[0])\n",
    "    hypothisis = np.dot(x_test, weight.T)\n",
    "    for i in range(0, hypothisis.shape[0]):\n",
    "        if(hypothisis[i] < 0.5):\n",
    "            y_pred[i] = 0\n",
    "        if(hypothisis[i] >= 0.5):\n",
    "            y_pred[i] = 1\n",
    "    test_accu = accuracy_score(y_test, y_pred)\n",
    "    return test_accu"
   ]
  },
  {
   "cell_type": "code",
   "execution_count": 41,
   "id": "889926d3",
   "metadata": {},
   "outputs": [],
   "source": [
    "def new_predict(x_test, y_test, weight):\n",
    "    x_test = add_intercept(x_test)\n",
    "    y_pred = np.ones(y_test.shape[0])\n",
    "    hypothisis = np.dot(x_test, weight.T)\n",
    "    \n",
    "    for i in range(0, hypothisis.shape[0]):\n",
    "        if(hypothisis[i] < 0.5):\n",
    "            y_pred[i] = 0\n",
    "        if(hypothisis[i] >= 0):\n",
    "            y_pred[i] = 1\n",
    "    test_accu = accuracy_score(y_test. y_pred)\n",
    "    precision = precision_score(y_test, y_pred)\n",
    "    recall = recall_score(y_test, y_pred)\n",
    "    f1 = f1_score(y_test, y_pred)\n",
    "    \n",
    "    print(\"Training Accuracy : \",test_accu)\n",
    "    print(\"Precision score : \",precision)\n",
    "    print(\"Recall score : \",recall)\n",
    "    print(\"F1 score : \",f1)\n",
    "    print(\"Confusion matrix : \", confusion_matrix(y_test, y_pred))\n",
    "    print(\"classification report : \\n\", classification_report(y_test, y_pred))\n",
    "    \n",
    "    return test_accu"
   ]
  }
 ],
 "metadata": {
  "kernelspec": {
   "display_name": "Python 3",
   "language": "python",
   "name": "python3"
  },
  "language_info": {
   "codemirror_mode": {
    "name": "ipython",
    "version": 3
   },
   "file_extension": ".py",
   "mimetype": "text/x-python",
   "name": "python",
   "nbconvert_exporter": "python",
   "pygments_lexer": "ipython3",
   "version": "3.8.8"
  }
 },
 "nbformat": 4,
 "nbformat_minor": 5
}
